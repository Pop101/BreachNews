{
 "cells": [
  {
   "cell_type": "markdown",
   "metadata": {},
   "source": [
    "## Industry"
   ]
  },
  {
   "cell_type": "code",
   "execution_count": 62,
   "metadata": {},
   "outputs": [
    {
     "name": "stdout",
     "output_type": "stream",
     "text": [
      "Chi-squared Statistic: 4020.164136772257\n",
      "P-value: 0.0\n",
      "Filtered table saved to 'filtered_sector_data.csv'\n"
     ]
    }
   ],
   "source": [
    "import pandas as pd\n",
    "from scipy.stats import chisquare\n",
    "\n",
    "# Load the saved table\n",
    "sector_data = pd.read_csv(\"./output/sector_article_percentages.csv\")\n",
    "\n",
    "# Combine rows where 'percentage_all_articles' is < 0.1 into an \"Other\" category\n",
    "threshold = 0.1\n",
    "low_percentage_mask = sector_data[\"percentage_all_articles\"] < threshold\n",
    "\n",
    "# Summing rows below the threshold into an \"Other\" category\n",
    "other_row = pd.DataFrame([{\n",
    "    \"industry\": \"Other\",\n",
    "    \"count_all_articles\": sector_data.loc[low_percentage_mask, \"count_all_articles\"].sum(),\n",
    "    \"percentage_all_articles\": sector_data.loc[low_percentage_mask, \"percentage_all_articles\"].sum(),\n",
    "    \"count_breach_articles\": sector_data.loc[low_percentage_mask, \"count_breach_articles\"].sum(),\n",
    "    \"percentage_breach_articles\": sector_data.loc[low_percentage_mask, \"percentage_breach_articles\"].sum(),\n",
    "}])\n",
    "\n",
    "# Filter out the rows below the threshold and append the \"Other\" row using pd.concat\n",
    "filtered_sector_data = pd.concat(\n",
    "    [sector_data.loc[~low_percentage_mask], other_row],\n",
    "    ignore_index=True\n",
    ")\n",
    "\n",
    "# Observed (count_breach_articles) and Expected (count_all_articles)\n",
    "observed = filtered_sector_data[\"count_breach_articles\"]\n",
    "expected = filtered_sector_data[\"percentage_all_articles\"]\n",
    "\n",
    "# Ensure observed and expected have matching totals\n",
    "expected = (expected / 100) * observed.sum()\n",
    "\n",
    "\n",
    "# Perform the chi-squared goodness-of-fit test with normalized expected counts\n",
    "chi2_stat, p_value = chisquare(f_obs=observed, f_exp=expected)\n",
    "\n",
    "\n",
    "\n",
    "# Display results\n",
    "print(\"Chi-squared Statistic:\", chi2_stat)\n",
    "print(\"P-value:\", p_value)\n",
    "\n",
    "# Save the processed table\n",
    "filtered_sector_data.to_csv(\"filtered_sector_data.csv\", index=False)\n",
    "print(\"Filtered table saved to 'filtered_sector_data.csv'\")\n"
   ]
  },
  {
   "cell_type": "code",
   "execution_count": 58,
   "metadata": {},
   "outputs": [
    {
     "name": "stdout",
     "output_type": "stream",
     "text": [
      "59\n",
      "59\n",
      "chi_square_test_statistic is : 5.0127344877344875\n",
      "p_value : 0.542180861413329\n",
      "12.591587243743977\n"
     ]
    }
   ],
   "source": [
    "# importing packages\n",
    "import scipy.stats as stats\n",
    "import numpy as np\n",
    "\n",
    "# no of hours a student studies\n",
    "# in a week vs expected no of hours\n",
    "observed_data = [8, 6, 10, 7, 8, 11, 9]\n",
    "expected_data = [9, 8, 11, 8, 10, 7, 6]\n",
    "\n",
    "print(sum(observed_data))\n",
    "print(sum(expected_data))\n",
    "\n",
    "\n",
    "# Chi-Square Goodness of Fit Test\n",
    "chi_square_test_statistic, p_value = stats.chisquare(\n",
    "    observed_data, expected_data)\n",
    "\n",
    "# chi square test statistic and p value\n",
    "print('chi_square_test_statistic is : ' +\n",
    "      str(chi_square_test_statistic))\n",
    "print('p_value : ' + str(p_value))\n",
    "\n",
    "\n",
    "# find Chi-Square critical value\n",
    "print(stats.chi2.ppf(1-0.05, df=6))"
   ]
  },
  {
   "cell_type": "code",
   "execution_count": 66,
   "metadata": {},
   "outputs": [
    {
     "name": "stdout",
     "output_type": "stream",
     "text": [
      "Chi-squared Statistic: 7249.712916586258\n",
      "P-value: 0.0\n",
      "Filtered table saved to 'filtered_sector_percentages_with_non_breach.csv'\n"
     ]
    }
   ],
   "source": [
    "import pandas as pd\n",
    "from scipy.stats import chisquare\n",
    "\n",
    "# Load the saved table\n",
    "sector_percentages = pd.read_csv(\"./output/sector_article_percentages.csv\")\n",
    "\n",
    "# Calculate articles that do not contain data breaches\n",
    "sector_percentages[\"count_non_breach_articles\"] = (\n",
    "    sector_percentages[\"count_all_articles\"] - sector_percentages[\"count_breach_articles\"]\n",
    ")\n",
    "\n",
    "# Calculate percentages for non-breach articles\n",
    "sector_percentages[\"percentage_non_breach_articles\"] = (\n",
    "    sector_percentages[\"count_non_breach_articles\"] /\n",
    "    sector_percentages[\"count_non_breach_articles\"].sum() * 100\n",
    ")\n",
    "\n",
    "# Combine rows where 'percentage_all_articles' is < 0.1 into an \"Other\" category\n",
    "threshold = 0.1\n",
    "low_percentage_mask = sector_percentages[\"percentage_all_articles\"] < threshold\n",
    "\n",
    "# Summing rows below the threshold into an \"Other\" category\n",
    "other_row = pd.DataFrame([{\n",
    "    \"industry\": \"Other\",\n",
    "    \"count_all_articles\": sector_percentages.loc[low_percentage_mask, \"count_all_articles\"].sum(),\n",
    "    \"count_breach_articles\": sector_percentages.loc[low_percentage_mask, \"count_breach_articles\"].sum(),\n",
    "    \"count_non_breach_articles\": sector_percentages.loc[low_percentage_mask, \"count_non_breach_articles\"].sum(),\n",
    "    \"percentage_all_articles\": sector_percentages.loc[low_percentage_mask, \"percentage_all_articles\"].sum(),\n",
    "    \"percentage_breach_articles\": sector_percentages.loc[low_percentage_mask, \"percentage_breach_articles\"].sum(),\n",
    "    \"percentage_non_breach_articles\": sector_percentages.loc[low_percentage_mask, \"percentage_non_breach_articles\"].sum(),\n",
    "}])\n",
    "\n",
    "# Filter out the rows below the threshold and append the \"Other\" row using pd.concat\n",
    "filtered_sector_percentages = pd.concat(\n",
    "    [sector_percentages.loc[~low_percentage_mask], other_row],\n",
    "    ignore_index=True\n",
    ")\n",
    "\n",
    "# Observed (count_breach_articles) and Expected (count_all_articles)\n",
    "observed = filtered_sector_percentages[\"count_breach_articles\"]\n",
    "expected = filtered_sector_percentages[\"percentage_non_breach_articles\"]\n",
    "\n",
    "# Ensure observed and expected have matching totals\n",
    "expected = (expected / 100) * observed.sum()\n",
    "\n",
    "# Perform the chi-squared goodness-of-fit test\n",
    "chi2_stat, p_value = chisquare(f_obs=observed, f_exp=expected)\n",
    "\n",
    "# Display results\n",
    "print(\"Chi-squared Statistic:\", chi2_stat)\n",
    "print(\"P-value:\", p_value)\n",
    "\n",
    "# Save the processed table\n",
    "filtered_sector_percentages.to_csv(\"filtered_sector_percentages_with_non_breach.csv\", index=False)\n",
    "print(\"Filtered table saved to 'filtered_sector_percentages_with_non_breach.csv'\")\n"
   ]
  },
  {
   "cell_type": "markdown",
   "metadata": {},
   "source": [
    "## year founded"
   ]
  },
  {
   "cell_type": "code",
   "execution_count": 35,
   "metadata": {},
   "outputs": [
    {
     "name": "stdout",
     "output_type": "stream",
     "text": [
      "Chi-squared Statistic: 24.19254958244882\n",
      "P-value: 0.9908368496212323\n",
      "Filtered table saved to 'filtered_year_founded_percentages.csv'\n"
     ]
    }
   ],
   "source": [
    "import pandas as pd\n",
    "from scipy.stats import chisquare\n",
    "\n",
    "# Load the saved table\n",
    "year_founded_percentages = pd.read_csv(\"./output/year_founded_article_percentages.csv\")\n",
    "\n",
    "\n",
    "# Observed (percentage_breach_articles) and Expected (percentage_all_articles)\n",
    "observed = year_founded_percentages[\"percentage_breach_articles\"]\n",
    "expected = year_founded_percentages[\"percentage_all_articles\"]\n",
    "\n",
    "# Perform the chi-squared goodness-of-fit test\n",
    "chi2_stat, p_value = chisquare(f_obs=observed, f_exp=expected)\n",
    "\n",
    "# Display results\n",
    "print(\"Chi-squared Statistic:\", chi2_stat)\n",
    "print(\"P-value:\", p_value)\n",
    "\n",
    "# Save the processed table\n",
    "year_founded_percentages.to_csv(\"filtered_year_founded_percentages.csv\", index=False)\n",
    "print(\"Filtered table saved to 'filtered_year_founded_percentages.csv'\")\n"
   ]
  },
  {
   "cell_type": "code",
   "execution_count": null,
   "metadata": {},
   "outputs": [
    {
     "name": "stdout",
     "output_type": "stream",
     "text": [
      "Chi-squared Statistic: 39.0721188511853\n",
      "P-value: 0.6423164631321804\n",
      "Filtered table saved to 'year_founded_percentages_with_non_breach.csv'\n"
     ]
    }
   ],
   "source": [
    "import pandas as pd\n",
    "from scipy.stats import chisquare\n",
    "\n",
    "# Load the saved table\n",
    "year_founded_percentages = pd.read_csv(\"./output/year_founded_article_percentages.csv\")\n",
    "\n",
    "# Calculate articles that do not contain data breaches\n",
    "year_founded_percentages[\"count_non_breach_articles\"] = (\n",
    "    year_founded_percentages[\"count_all_articles\"] - year_founded_percentages[\"count_breach_articles\"]\n",
    ")\n",
    "\n",
    "# Calculate percentages for non-breach articles\n",
    "year_founded_percentages[\"percentage_non_breach_articles\"] = (\n",
    "    year_founded_percentages[\"count_non_breach_articles\"] /\n",
    "    year_founded_percentages[\"count_non_breach_articles\"].sum() * 100\n",
    ")\n",
    "\n",
    "# Observed (percentage_breach_articles) and Expected (percentage_non_breach_articles)\n",
    "observed = year_founded_percentages[\"percentage_breach_articles\"]\n",
    "expected = year_founded_percentages[\"percentage_non_breach_articles\"]\n",
    "\n",
    "# Perform the chi-squared goodness-of-fit test\n",
    "chi2_stat, p_value = chisquare(f_obs=observed, f_exp=expected)\n",
    "\n",
    "# Display results\n",
    "print(\"Chi-squared Statistic:\", chi2_stat)\n",
    "print(\"P-value:\", p_value)\n",
    "\n",
    "# Save the processed table\n",
    "filtered_sector_percentages.to_csv(\"year_founded_percentages_with_non_breach.csv\", index=False)\n",
    "print(\"Filtered table saved to 'year_founded_percentages_with_non_breach.csv'\")\n"
   ]
  },
  {
   "cell_type": "markdown",
   "metadata": {},
   "source": [
    "## size range"
   ]
  },
  {
   "cell_type": "code",
   "execution_count": null,
   "metadata": {},
   "outputs": [
    {
     "name": "stdout",
     "output_type": "stream",
     "text": [
      "Chi-squared Statistic: 4.110978507505424\n",
      "P-value: 0.7669098346909954\n",
      "Filtered table saved to 'size_percentages.csv'\n"
     ]
    }
   ],
   "source": [
    "import pandas as pd\n",
    "from scipy.stats import chisquare\n",
    "\n",
    "# Load the saved table\n",
    "size_percentages = pd.read_csv(\"./output/size_article_percentages.csv\")\n",
    "\n",
    "\n",
    "# Observed (percentage_breach_articles) and Expected (percentage_all_articles)\n",
    "observed = size_percentages[\"percentage_breach_articles\"]\n",
    "expected = size_percentages[\"percentage_all_articles\"]\n",
    "\n",
    "# Perform the chi-squared goodness-of-fit test\n",
    "chi2_stat, p_value = chisquare(f_obs=observed, f_exp=expected)\n",
    "\n",
    "# Display results\n",
    "print(\"Chi-squared Statistic:\", chi2_stat)\n",
    "print(\"P-value:\", p_value)\n",
    "\n",
    "# Save the processed table\n",
    "filtered_sector_percentages.to_csv(\"size_percentages.csv\", index=False)\n",
    "print(\"Filtered table saved to 'size_percentages.csv'\")\n"
   ]
  },
  {
   "cell_type": "code",
   "execution_count": 9,
   "metadata": {},
   "outputs": [
    {
     "name": "stdout",
     "output_type": "stream",
     "text": [
      "Chi-squared Statistic: 5.099781552600863\n",
      "P-value: 0.6477877377168725\n",
      "Filtered table saved to 'size_percentages_with_non_breach.csv'\n"
     ]
    }
   ],
   "source": [
    "import pandas as pd\n",
    "from scipy.stats import chisquare\n",
    "\n",
    "# Load the saved table\n",
    "size_percentages = pd.read_csv(\"./output/size_article_percentages.csv\")\n",
    "\n",
    "\n",
    "# Calculate articles that do not contain data breaches\n",
    "size_percentages[\"count_non_breach_articles\"] = (\n",
    "    size_percentages[\"count_all_articles\"] - size_percentages[\"count_breach_articles\"]\n",
    ")\n",
    "\n",
    "# Calculate percentages for non-breach articles\n",
    "size_percentages[\"percentage_non_breach_articles\"] = (\n",
    "    size_percentages[\"count_non_breach_articles\"] /\n",
    "    size_percentages[\"count_non_breach_articles\"].sum() * 100\n",
    ")\n",
    "\n",
    "# Observed (percentage_breach_articles) and Expected (percentage_non_breach_articles)\n",
    "observed = size_percentages[\"percentage_breach_articles\"]\n",
    "expected = size_percentages[\"percentage_non_breach_articles\"]\n",
    "\n",
    "# Perform the chi-squared goodness-of-fit test\n",
    "chi2_stat, p_value = chisquare(f_obs=observed, f_exp=expected)\n",
    "\n",
    "# Display results\n",
    "print(\"Chi-squared Statistic:\", chi2_stat)\n",
    "print(\"P-value:\", p_value)\n",
    "\n",
    "# Save the processed table\n",
    "filtered_sector_percentages.to_csv(\"size_percentages_with_non_breach.csv\", index=False)\n",
    "print(\"Filtered table saved to 'size_percentages_with_non_breach.csv'\")\n"
   ]
  },
  {
   "cell_type": "markdown",
   "metadata": {},
   "source": [
    "## total employee estimate range"
   ]
  },
  {
   "cell_type": "code",
   "execution_count": 13,
   "metadata": {},
   "outputs": [
    {
     "name": "stdout",
     "output_type": "stream",
     "text": [
      "Chi-squared Statistic: 4.4659597981345796\n",
      "P-value: 0.3466028712230791\n",
      "Filtered table saved to 'employee_percentages.csv'\n"
     ]
    }
   ],
   "source": [
    "import pandas as pd\n",
    "from scipy.stats import chisquare\n",
    "\n",
    "# Load the saved table\n",
    "employee_percentages = pd.read_csv(\"./output/employees_article_percentages.csv\")\n",
    "\n",
    "\n",
    "# Observed (percentage_breach_articles) and Expected (percentage_all_articles)\n",
    "observed = employee_percentages[\"percentage_breach_articles\"]\n",
    "expected = employee_percentages[\"percentage_all_articles\"]\n",
    "\n",
    "# Perform the chi-squared goodness-of-fit test\n",
    "chi2_stat, p_value = chisquare(f_obs=observed, f_exp=expected)\n",
    "\n",
    "# Display results\n",
    "print(\"Chi-squared Statistic:\", chi2_stat)\n",
    "print(\"P-value:\", p_value)\n",
    "\n",
    "# Save the processed table\n",
    "filtered_sector_percentages.to_csv(\"employee_percentages.csv\", index=False)\n",
    "print(\"Filtered table saved to 'employee_percentages.csv'\")\n"
   ]
  },
  {
   "cell_type": "code",
   "execution_count": 11,
   "metadata": {},
   "outputs": [
    {
     "name": "stdout",
     "output_type": "stream",
     "text": [
      "Chi-squared Statistic: 5.325631909589469\n",
      "P-value: 0.2554870088417494\n",
      "Filtered table saved to 'employee_percentages_with_non_breach.csv'\n"
     ]
    }
   ],
   "source": [
    "import pandas as pd\n",
    "from scipy.stats import chisquare\n",
    "\n",
    "# Load the saved table\n",
    "employee_percentages = pd.read_csv(\"./output/employees_article_percentages.csv\")\n",
    "\n",
    "\n",
    "# Calculate articles that do not contain data breaches\n",
    "employee_percentages[\"count_non_breach_articles\"] = (\n",
    "    employee_percentages[\"count_all_articles\"] - employee_percentages[\"count_breach_articles\"]\n",
    ")\n",
    "\n",
    "# Calculate percentages for non-breach articles\n",
    "employee_percentages[\"percentage_non_breach_articles\"] = (\n",
    "    employee_percentages[\"count_non_breach_articles\"] /\n",
    "    employee_percentages[\"count_non_breach_articles\"].sum() * 100\n",
    ")\n",
    "\n",
    "# Observed (percentage_breach_articles) and Expected (percentage_non_breach_articles)\n",
    "observed = employee_percentages[\"percentage_breach_articles\"]\n",
    "expected = employee_percentages[\"percentage_non_breach_articles\"]\n",
    "\n",
    "# Perform the chi-squared goodness-of-fit test\n",
    "chi2_stat, p_value = chisquare(f_obs=observed, f_exp=expected)\n",
    "\n",
    "# Display results\n",
    "print(\"Chi-squared Statistic:\", chi2_stat)\n",
    "print(\"P-value:\", p_value)\n",
    "\n",
    "# Save the processed table\n",
    "filtered_sector_percentages.to_csv(\"employee_percentages_with_non_breach.csv\", index=False)\n",
    "print(\"Filtered table saved to 'employee_percentages_with_non_breach.csv'\")\n"
   ]
  },
  {
   "cell_type": "markdown",
   "metadata": {},
   "source": [
    "# data breaches and articles about data breaches"
   ]
  },
  {
   "cell_type": "markdown",
   "metadata": {},
   "source": [
    "## total employee estimate range"
   ]
  },
  {
   "cell_type": "code",
   "execution_count": null,
   "metadata": {},
   "outputs": [
    {
     "name": "stdout",
     "output_type": "stream",
     "text": [
      "Chi-squared Statistic: 8771.553612876582\n",
      "P-value: 0.0\n"
     ]
    }
   ],
   "source": [
    "import pandas as pd\n",
    "from scipy.stats import chisquare\n",
    "\n",
    "# Load the saved table\n",
    "employee_percentages = pd.read_csv(\"./output/employees_breach_companies_percentages.csv\")\n",
    "\n",
    "\n",
    "# Observed (count_breach_articles) and Expected (count_all_articles)\n",
    "observed = employee_percentages[\"percentage_breach_articles\"]\n",
    "expected = employee_percentages[\"percentage_all_articles\"]\n",
    "\n",
    "sum = employee_percentages[\"count_breach_articles\"].sum()\n",
    "\n",
    "# Ensure observed and expected have matching totals\n",
    "expected = (expected / 100) * sum\n",
    "observed = (observed / 100) * sum\n",
    "\n",
    "\n",
    "chi2_stat, p_value = chisquare(f_obs=observed, f_exp=expected)\n",
    "\n",
    "\n",
    "# Display results\n",
    "print(\"Chi-squared Statistic:\", chi2_stat)\n",
    "print(\"P-value:\", p_value)\n",
    "\n",
    "# Save the processed table\n",
    "employee_percentages.to_csv(\"./output/breach_comp_employee_percentages.csv\", index=False)\n",
    "\n"
   ]
  },
  {
   "cell_type": "code",
   "execution_count": 81,
   "metadata": {},
   "outputs": [
    {
     "name": "stdout",
     "output_type": "stream",
     "text": [
      "Chi-squared Statistic: 8934.31458529819\n",
      "P-value: 0.0\n"
     ]
    }
   ],
   "source": [
    "import pandas as pd\n",
    "from scipy.stats import chisquare\n",
    "\n",
    "# Load the saved table\n",
    "employee_percentages = pd.read_csv(\"./output/employees_breach_companies_percentages.csv\")\n",
    "\n",
    "# Calculate articles that do not contain data breaches\n",
    "employee_percentages[\"count_non_breach_articles\"] = (\n",
    "    employee_percentages[\"count_breach_articles\"] - employee_percentages[\"count_all_articles\"]\n",
    ")\n",
    "\n",
    "# Calculate percentages for non-breach articles\n",
    "employee_percentages[\"percentage_non_breach_articles\"] = (\n",
    "    employee_percentages[\"count_non_breach_articles\"] /\n",
    "    employee_percentages[\"count_non_breach_articles\"].sum() * 100\n",
    ")\n",
    "\n",
    "\n",
    "# Observed (count_breach_articles) and Expected (count_all_articles)\n",
    "observed = employee_percentages[\"percentage_non_breach_articles\"]\n",
    "expected = employee_percentages[\"percentage_all_articles\"]\n",
    "\n",
    "sum = employee_percentages[\"count_non_breach_articles\"].sum()\n",
    "\n",
    "# Ensure observed and expected have matching totals\n",
    "expected = (expected / 100) * sum\n",
    "observed = (observed / 100) * sum\n",
    "\n",
    "# Perform the chi-squared goodness-of-fit test\n",
    "chi2_stat, p_value = chisquare(f_obs=observed, f_exp=expected)\n",
    "\n",
    "\n",
    "# Display results\n",
    "print(\"Chi-squared Statistic:\", chi2_stat)\n",
    "print(\"P-value:\", p_value)\n",
    "\n",
    "# Save the processed table\n",
    "employee_percentages.to_csv(\"./output/breach_comp_employee_percentages_distinct_sets.csv\", index=False)\n",
    "\n"
   ]
  },
  {
   "cell_type": "markdown",
   "metadata": {},
   "source": [
    "## size range"
   ]
  },
  {
   "cell_type": "code",
   "execution_count": 82,
   "metadata": {},
   "outputs": [
    {
     "name": "stdout",
     "output_type": "stream",
     "text": [
      "Chi-squared Statistic: 5970.192855967077\n",
      "P-value: 0.0\n",
      "Filtered table saved to 'size_percentages.csv'\n"
     ]
    }
   ],
   "source": [
    "import pandas as pd\n",
    "from scipy.stats import chisquare\n",
    "\n",
    "# Load the saved table\n",
    "size_percentages = pd.read_csv(\"./output/size_breach_companies_percentages.csv\")\n",
    "\n",
    "\n",
    "# Observed (percentage_breach_articles) and Expected (percentage_all_articles)\n",
    "observed = size_percentages[\"percentage_breach_articles\"]\n",
    "expected = size_percentages[\"percentage_all_articles\"]\n",
    "\n",
    "sum = employee_percentages[\"count_breach_articles\"].sum()\n",
    "\n",
    "# Ensure observed and expected have matching totals\n",
    "expected = (expected / 100) * sum\n",
    "observed = (observed / 100) * sum\n",
    "\n",
    "# Perform the chi-squared goodness-of-fit test\n",
    "chi2_stat, p_value = chisquare(f_obs=observed, f_exp=expected)\n",
    "\n",
    "# Display results\n",
    "print(\"Chi-squared Statistic:\", chi2_stat)\n",
    "print(\"P-value:\", p_value)\n",
    "\n",
    "# Save the processed table\n",
    "size_percentages.to_csv(\"breach_comp_size_percentages.csv\", index=False)\n",
    "print(\"Filtered table saved to 'size_percentages.csv'\")\n"
   ]
  },
  {
   "cell_type": "code",
   "execution_count": 83,
   "metadata": {},
   "outputs": [
    {
     "name": "stdout",
     "output_type": "stream",
     "text": [
      "Chi-squared Statistic: 6080.9730481277065\n",
      "P-value: 0.0\n",
      "Filtered table saved to 'size_percentages_with_non_breach.csv'\n"
     ]
    }
   ],
   "source": [
    "import pandas as pd\n",
    "from scipy.stats import chisquare\n",
    "\n",
    "# Load the saved table\n",
    "size_percentages = pd.read_csv(\"./output/size_breach_companies_percentages.csv\")\n",
    "\n",
    "\n",
    "# Calculate articles that do not contain data breaches\n",
    "size_percentages[\"count_non_breach_articles\"] = (\n",
    "    size_percentages[\"count_breach_articles\"] - size_percentages[\"count_all_articles\"]\n",
    ")\n",
    "\n",
    "# Calculate percentages for non-breach articles\n",
    "size_percentages[\"percentage_non_breach_articles\"] = (\n",
    "    size_percentages[\"count_non_breach_articles\"] /\n",
    "    size_percentages[\"count_non_breach_articles\"].sum() * 100\n",
    ")\n",
    "\n",
    "# Observed (percentage_breach_articles) and Expected (percentage_non_breach_articles)\n",
    "observed = size_percentages[\"percentage_non_breach_articles\"]\n",
    "expected = size_percentages[\"percentage_all_articles\"]\n",
    "\n",
    "sum = employee_percentages[\"count_non_breach_articles\"].sum()\n",
    "\n",
    "# Ensure observed and expected have matching totals\n",
    "expected = (expected / 100) * sum\n",
    "observed = (observed / 100) * sum\n",
    "\n",
    "# Perform the chi-squared goodness-of-fit test\n",
    "chi2_stat, p_value = chisquare(f_obs=observed, f_exp=expected)\n",
    "\n",
    "# Display results\n",
    "print(\"Chi-squared Statistic:\", chi2_stat)\n",
    "print(\"P-value:\", p_value)\n",
    "\n",
    "# Save the processed table\n",
    "size_percentages.to_csv(\"breach_comp_size_percentages_distinct_sets.csv\", index=False)\n",
    "print(\"Filtered table saved to 'size_percentages_with_non_breach.csv'\")\n"
   ]
  },
  {
   "cell_type": "markdown",
   "metadata": {},
   "source": [
    "## sector"
   ]
  },
  {
   "cell_type": "code",
   "execution_count": 84,
   "metadata": {},
   "outputs": [
    {
     "name": "stdout",
     "output_type": "stream",
     "text": [
      "Chi-squared Statistic: 3808.6459587667177\n",
      "P-value: 0.0\n"
     ]
    }
   ],
   "source": [
    "import pandas as pd\n",
    "from scipy.stats import chisquare\n",
    "\n",
    "# Load the saved table\n",
    "sector_percentages = pd.read_csv(\"./output/sector_breach_companies_percentages.csv\")\n",
    "\n",
    "# Combine rows where 'percentage_all_articles' is < 0.1 into an \"Other\" category\n",
    "threshold = 5\n",
    "low_percentage_mask = sector_percentages[\"count_all_articles\"] < threshold\n",
    "\n",
    "# Summing rows below the threshold into an \"Other\" category\n",
    "other_row = pd.DataFrame([{\n",
    "    \"industry\": \"Other\",\n",
    "    \"count_all_articles\": sector_percentages.loc[low_percentage_mask, \"count_all_articles\"].sum(),\n",
    "    \"percentage_all_articles\": sector_percentages.loc[low_percentage_mask, \"percentage_all_articles\"].sum(),\n",
    "    \"count_breach_articles\": sector_percentages.loc[low_percentage_mask, \"count_breach_articles\"].sum(),\n",
    "    \"percentage_breach_articles\": sector_percentages.loc[low_percentage_mask, \"percentage_breach_articles\"].sum(),\n",
    "}])\n",
    "\n",
    "# Filter out the rows below the threshold and append the \"Other\" row using pd.concat\n",
    "filtered_sector_percentages = pd.concat(\n",
    "    [sector_percentages.loc[~low_percentage_mask], other_row],\n",
    "    ignore_index=True\n",
    ")\n",
    "\n",
    "# Observed (percentage_breach_articles) and Expected (percentage_all_articles)\n",
    "observed = filtered_sector_percentages[\"percentage_breach_articles\"]\n",
    "expected = filtered_sector_percentages[\"percentage_all_articles\"]\n",
    "\n",
    "sum = employee_percentages[\"count_breach_articles\"].sum()\n",
    "\n",
    "# Ensure observed and expected have matching totals\n",
    "expected = (expected / 100) * sum\n",
    "observed = (observed / 100) * sum\n",
    "\n",
    "# Perform the chi-squared goodness-of-fit test\n",
    "chi2_stat, p_value = chisquare(f_obs=observed, f_exp=expected)\n",
    "\n",
    "# Display results\n",
    "print(\"Chi-squared Statistic:\", chi2_stat)\n",
    "print(\"P-value:\", p_value)\n",
    "\n",
    "# Save the processed table\n",
    "filtered_sector_percentages.to_csv(\"./output/breach_comp_sector_percentages.csv\", index=False)\n"
   ]
  },
  {
   "cell_type": "code",
   "execution_count": 85,
   "metadata": {},
   "outputs": [
    {
     "name": "stdout",
     "output_type": "stream",
     "text": [
      "Chi-squared Statistic: 3879.31869006566\n",
      "P-value: 0.0\n"
     ]
    }
   ],
   "source": [
    "import pandas as pd\n",
    "from scipy.stats import chisquare\n",
    "\n",
    "# Load the saved table\n",
    "sector_percentages = pd.read_csv(\"./output/sector_breach_companies_percentages.csv\")\n",
    "\n",
    "# Calculate articles that do not contain data breaches\n",
    "sector_percentages[\"count_non_breach_articles\"] = (\n",
    "    sector_percentages[\"count_breach_articles\"] - sector_percentages[\"count_all_articles\"]\n",
    ")\n",
    "\n",
    "# Calculate percentages for non-breach articles\n",
    "sector_percentages[\"percentage_non_breach_articles\"] = (\n",
    "    sector_percentages[\"count_non_breach_articles\"] /\n",
    "    sector_percentages[\"count_non_breach_articles\"].sum() * 100\n",
    ")\n",
    "\n",
    "# Combine rows where 'percentage_all_articles' is < 0.1 into an \"Other\" category\n",
    "threshold = 5\n",
    "low_percentage_mask = sector_percentages[\"count_all_articles\"] < threshold\n",
    "\n",
    "# Summing rows below the threshold into an \"Other\" category\n",
    "other_row = pd.DataFrame([{\n",
    "    \"industry\": \"Other\",\n",
    "    \"count_all_articles\": sector_percentages.loc[low_percentage_mask, \"count_all_articles\"].sum(),\n",
    "    \"count_breach_articles\": sector_percentages.loc[low_percentage_mask, \"count_breach_articles\"].sum(),\n",
    "    \"count_non_breach_articles\": sector_percentages.loc[low_percentage_mask, \"count_non_breach_articles\"].sum(),\n",
    "    \"percentage_all_articles\": sector_percentages.loc[low_percentage_mask, \"percentage_all_articles\"].sum(),\n",
    "    \"percentage_breach_articles\": sector_percentages.loc[low_percentage_mask, \"percentage_breach_articles\"].sum(),\n",
    "    \"percentage_non_breach_articles\": sector_percentages.loc[low_percentage_mask, \"percentage_non_breach_articles\"].sum(),\n",
    "}])\n",
    "\n",
    "# Filter out the rows below the threshold and append the \"Other\" row using pd.concat\n",
    "filtered_sector_percentages = pd.concat(\n",
    "    [sector_percentages.loc[~low_percentage_mask], other_row],\n",
    "    ignore_index=True\n",
    ")\n",
    "\n",
    "# Observed (percentage_breach_articles) and Expected (percentage_non_breach_articles)\n",
    "observed = filtered_sector_percentages[\"percentage_non_breach_articles\"]\n",
    "expected = filtered_sector_percentages[\"percentage_all_articles\"]\n",
    "\n",
    "sum = employee_percentages[\"count_non_breach_articles\"].sum()\n",
    "\n",
    "# Ensure observed and expected have matching totals\n",
    "expected = (expected / 100) * sum\n",
    "observed = (observed / 100) * sum\n",
    "\n",
    "# Perform the chi-squared goodness-of-fit test\n",
    "chi2_stat, p_value = chisquare(f_obs=observed, f_exp=expected)\n",
    "\n",
    "# Display results\n",
    "print(\"Chi-squared Statistic:\", chi2_stat)\n",
    "print(\"P-value:\", p_value)\n",
    "\n",
    "# Save the processed table \n",
    "filtered_sector_percentages.to_csv(\"./output/breach_comp_sector_percentages_distinct_sets.csv\", index=False)\n"
   ]
  },
  {
   "cell_type": "markdown",
   "metadata": {},
   "source": [
    "## year founded"
   ]
  },
  {
   "cell_type": "code",
   "execution_count": 86,
   "metadata": {},
   "outputs": [
    {
     "name": "stdout",
     "output_type": "stream",
     "text": [
      "Chi-squared Statistic: 4929.186514931415\n",
      "P-value: 0.0\n",
      "Filtered table saved to 'filtered_year_founded_percentages.csv'\n"
     ]
    }
   ],
   "source": [
    "import pandas as pd\n",
    "from scipy.stats import chisquare\n",
    "\n",
    "# Load the saved table\n",
    "year_founded_percentages = pd.read_csv(\"./output/year_founded_breach_companies_percentages.csv\")\n",
    "\n",
    "# Combine rows where 'percentage_all_articles' is < 0.1 into an \"Other\" category\n",
    "threshold = 5\n",
    "low_percentage_mask = year_founded_percentages[\"count_all_articles\"] < threshold\n",
    "\n",
    "# Summing rows below the threshold into an \"Other\" category\n",
    "other_row = pd.DataFrame([{\n",
    "    \"year_bin\": \"Other\",\n",
    "    \"count_all_articles\": year_founded_percentages.loc[low_percentage_mask, \"count_all_articles\"].sum(),\n",
    "    \"count_breach_articles\": year_founded_percentages.loc[low_percentage_mask, \"count_breach_articles\"].sum(),\n",
    "    \"percentage_all_articles\": year_founded_percentages.loc[low_percentage_mask, \"percentage_all_articles\"].sum(),\n",
    "    \"percentage_breach_articles\": year_founded_percentages.loc[low_percentage_mask, \"percentage_breach_articles\"].sum(),\n",
    "}])\n",
    "\n",
    "# Filter out the rows below the threshold and append the \"Other\" row using pd.concat\n",
    "year_founded_percentages = pd.concat(\n",
    "    [year_founded_percentages.loc[~low_percentage_mask], other_row],\n",
    "    ignore_index=True\n",
    ")\n",
    "\n",
    "# Observed (percentage_breach_articles) and Expected (percentage_all_articles)\n",
    "observed = year_founded_percentages[\"percentage_breach_articles\"]\n",
    "expected = year_founded_percentages[\"percentage_all_articles\"]\n",
    "\n",
    "sum = employee_percentages[\"count_breach_articles\"].sum()\n",
    "\n",
    "# Ensure observed and expected have matching totals\n",
    "expected = (expected / 100) * sum\n",
    "observed = (observed / 100) * sum\n",
    "\n",
    "# Perform the chi-squared goodness-of-fit test\n",
    "chi2_stat, p_value = chisquare(f_obs=observed, f_exp=expected)\n",
    "\n",
    "# Display results\n",
    "print(\"Chi-squared Statistic:\", chi2_stat)\n",
    "print(\"P-value:\", p_value)\n",
    "\n",
    "# Save the processed table /breach_comp_sector_percentages_distinct_sets\n",
    "year_founded_percentages.to_csv(\"./output/breach_comp_year_founded_percentages.csv\", index=False)\n",
    "print(\"Filtered table saved to 'filtered_year_founded_percentages.csv'\")\n"
   ]
  },
  {
   "cell_type": "code",
   "execution_count": 87,
   "metadata": {},
   "outputs": [
    {
     "name": "stdout",
     "output_type": "stream",
     "text": [
      "Chi-squared Statistic: 5016.174205179989\n",
      "P-value: 0.0\n",
      "Filtered table saved to 'year_founded_percentages_with_non_breach.csv'\n"
     ]
    }
   ],
   "source": [
    "import pandas as pd\n",
    "from scipy.stats import chisquare\n",
    "\n",
    "# Load the saved table\n",
    "year_founded_percentages = pd.read_csv(\"./output/year_founded_breach_companies_percentages.csv\")\n",
    "\n",
    "# Calculate articles that do not contain data breaches\n",
    "year_founded_percentages[\"count_non_breach_articles\"] = (\n",
    "    year_founded_percentages[\"count_breach_articles\"] -year_founded_percentages[\"count_all_articles\"]\n",
    ")\n",
    "\n",
    "# Calculate percentages for non-breach articles\n",
    "year_founded_percentages[\"percentage_non_breach_articles\"] = (\n",
    "    year_founded_percentages[\"count_non_breach_articles\"] /\n",
    "    year_founded_percentages[\"count_non_breach_articles\"].sum() * 100\n",
    ")\n",
    "\n",
    "threshold = 5\n",
    "low_percentage_mask = year_founded_percentages[\"count_all_articles\"] < threshold\n",
    "\n",
    "# Summing rows below the threshold into an \"Other\" category\n",
    "other_row = pd.DataFrame([{\n",
    "    \"year_bin\": \"Other\",\n",
    "    \"count_all_articles\": year_founded_percentages.loc[low_percentage_mask, \"count_all_articles\"].sum(),\n",
    "    \"count_breach_articles\": year_founded_percentages.loc[low_percentage_mask, \"count_breach_articles\"].sum(),\n",
    "    \"count_non_breach_articles\": year_founded_percentages.loc[low_percentage_mask, \"count_non_breach_articles\"].sum(),\n",
    "    \"percentage_all_articles\": year_founded_percentages.loc[low_percentage_mask, \"percentage_all_articles\"].sum(),\n",
    "    \"percentage_breach_articles\": year_founded_percentages.loc[low_percentage_mask, \"percentage_breach_articles\"].sum(),\n",
    "    \"percentage_non_breach_articles\": year_founded_percentages.loc[low_percentage_mask, \"percentage_non_breach_articles\"].sum(),\n",
    "}])\n",
    "\n",
    "# Filter out the rows below the threshold and append the \"Other\" row using pd.concat\n",
    "year_founded_percentages = pd.concat(\n",
    "    [year_founded_percentages.loc[~low_percentage_mask], other_row],\n",
    "    ignore_index=True\n",
    ")\n",
    "\n",
    "# Calculate percentages for non-breach articles\n",
    "year_founded_percentages[\"percentage_non_breach_articles\"] = (\n",
    "    year_founded_percentages[\"count_non_breach_articles\"] /\n",
    "    year_founded_percentages[\"count_non_breach_articles\"].sum() * 100\n",
    ")\n",
    "\n",
    "# Observed (percentage_breach_articles) and Expected (percentage_non_breach_articles)\n",
    "observed = year_founded_percentages[\"percentage_non_breach_articles\"]\n",
    "expected = year_founded_percentages[\"percentage_all_articles\"]\n",
    "\n",
    "sum = employee_percentages[\"count_non_breach_articles\"].sum()\n",
    "\n",
    "# Ensure observed and expected have matching totals\n",
    "expected = (expected / 100) * sum\n",
    "observed = (observed / 100) * sum\n",
    "\n",
    "# Perform the chi-squared goodness-of-fit test\n",
    "chi2_stat, p_value = chisquare(f_obs=observed, f_exp=expected)\n",
    "\n",
    "# Display results\n",
    "print(\"Chi-squared Statistic:\", chi2_stat)\n",
    "print(\"P-value:\", p_value)\n",
    "\n",
    "# Save the processed table\n",
    "filtered_sector_percentages.to_csv(\"year_founded_percentages_with_non_breach.csv\", index=False)\n",
    "print(\"Filtered table saved to 'year_founded_percentages_with_non_breach.csv'\")\n"
   ]
  }
 ],
 "metadata": {
  "kernelspec": {
   "display_name": ".venv",
   "language": "python",
   "name": "python3"
  },
  "language_info": {
   "codemirror_mode": {
    "name": "ipython",
    "version": 3
   },
   "file_extension": ".py",
   "mimetype": "text/x-python",
   "name": "python",
   "nbconvert_exporter": "python",
   "pygments_lexer": "ipython3",
   "version": "3.12.0"
  }
 },
 "nbformat": 4,
 "nbformat_minor": 2
}
