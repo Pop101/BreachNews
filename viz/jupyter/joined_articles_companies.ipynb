{
 "cells": [
  {
   "cell_type": "markdown",
   "metadata": {},
   "source": [
    "Import classfiied articles dataset (run1.csv)"
   ]
  },
  {
   "cell_type": "code",
   "execution_count": 3,
   "metadata": {},
   "outputs": [
    {
     "name": "stdout",
     "output_type": "stream",
     "text": [
      "Reading input file...\n",
      "\n",
      "Finished loading 4,361,401 rows in 12.1 seconds.\n"
     ]
    }
   ],
   "source": [
    "import os\n",
    "import time\n",
    "import pandas as pd\n",
    "import seaborn as sns\n",
    "import matplotlib.pyplot as plt\n",
    "\n",
    "start_time = time.monotonic()\n",
    "print(\"Reading input file...\")\n",
    "\n",
    "data_csv = pd.read_csv(\"../py/run1.csv\", encoding=\"ISO-8859-1\", low_memory=False)\n",
    "\n",
    "print(f\"\\nFinished loading {len(data_csv):,d} rows in {time.monotonic()-start_time:.1f} seconds.\")\n",
    "\n",
    "data_csv = data_csv.reindex(sorted(data_csv.columns), axis=1)\n",
    "pd.set_option(\"display.max_columns\", None)"
   ]
  },
  {
   "cell_type": "markdown",
   "metadata": {},
   "source": [
    "Drop duplicates by `URL` <br/>\n",
    "`BreachMentioned` is not `False`/`NA` <br/>\n",
    "`CompanyMentioned` is not `False`/`NA` <br/>\n",
    "`CompanyMentioned` is not `Government` (exclude government *agencies*)"
   ]
  },
  {
   "cell_type": "code",
   "execution_count": null,
   "metadata": {},
   "outputs": [],
   "source": [
    "# ~2.4 million unique articles\n",
    "data_csv = data_csv.drop_duplicates(subset=\"URL\")\n",
    "\n",
    "\n",
    "# 17,684 unique articles\n",
    "data_csv[\"BreachMentioned\"] = data_csv[\"BreachMentioned\"].fillna(\"False\")\n",
    "data_csv[\"BreachMentioned\"] = data_csv[\"BreachMentioned\"].astype(str)\n",
    "\n",
    "data_csv[\"CompanyMentioned\"] = data_csv[\"CompanyMentioned\"].fillna(\"False\")\n",
    "data_csv[\"CompanyMentioned\"] = data_csv[\"CompanyMentioned\"].astype(str)\n",
    "\n",
    "data_csv = data_csv[(data_csv[\"BreachMentioned\"] != \"False\") & (data_csv[\"CompanyMentioned\"] != \"False\")]\n",
    "\n",
    "data_csv = data_csv[(data_csv[\"CompanyMentioned\"] != \"Government\") & (data_csv[\"CompanyMentioned\"] != \"government\")]\n",
    "\n",
    "# save to CSV (optional)\n",
    "# data_csv.to_csv(\"./filtered_breach_articles.csv\", index=False)\n",
    "\n",
    "print(f\"\\nFinished filtering {len(data_csv):,d} rows.\")"
   ]
  }
 ],
 "metadata": {
  "kernelspec": {
   "display_name": "Python 3",
   "language": "python",
   "name": "python3"
  },
  "language_info": {
   "codemirror_mode": {
    "name": "ipython",
    "version": 3
   },
   "file_extension": ".py",
   "mimetype": "text/x-python",
   "name": "python",
   "nbconvert_exporter": "python",
   "pygments_lexer": "ipython3",
   "version": "3.10.12"
  }
 },
 "nbformat": 4,
 "nbformat_minor": 2
}
