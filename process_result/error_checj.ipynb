{
 "cells": [
  {
   "cell_type": "code",
   "execution_count": 7,
   "metadata": {},
   "outputs": [
    {
     "name": "stdout",
     "output_type": "stream",
     "text": [
      "Requirement already satisfied: pandas in c:\\users\\12537\\school\\data science\\breachnews\\.venv\\lib\\site-packages (2.2.3)\n",
      "Requirement already satisfied: numpy>=1.26.0 in c:\\users\\12537\\school\\data science\\breachnews\\.venv\\lib\\site-packages (from pandas) (2.1.3)\n",
      "Requirement already satisfied: python-dateutil>=2.8.2 in c:\\users\\12537\\school\\data science\\breachnews\\.venv\\lib\\site-packages (from pandas) (2.9.0.post0)\n",
      "Requirement already satisfied: pytz>=2020.1 in c:\\users\\12537\\school\\data science\\breachnews\\.venv\\lib\\site-packages (from pandas) (2024.2)\n",
      "Requirement already satisfied: tzdata>=2022.7 in c:\\users\\12537\\school\\data science\\breachnews\\.venv\\lib\\site-packages (from pandas) (2024.2)\n",
      "Requirement already satisfied: six>=1.5 in c:\\users\\12537\\school\\data science\\breachnews\\.venv\\lib\\site-packages (from python-dateutil>=2.8.2->pandas) (1.16.0)\n",
      "Note: you may need to restart the kernel to use updated packages.\n",
      "num matching rows:  1912\n",
      "num unmatched rows:  92\n"
     ]
    },
    {
     "name": "stderr",
     "output_type": "stream",
     "text": [
      "\n",
      "[notice] A new release of pip is available: 24.2 -> 24.3.1\n",
      "[notice] To update, run: python.exe -m pip install --upgrade pip\n"
     ]
    }
   ],
   "source": [
    "%pip install pandas\n",
    "\n",
    "import pandas as pd\n",
    "\n",
    "auto_dedup = pd.read_csv(\"../data/article_data/joined_articles_companies_no_duplicates.csv\")\n",
    "manual_dedup = pd.read_csv(\"../data/article_data/joined_articles_dup_companies_manual_check.csv\")\n",
    "\n",
    "\n",
    "# Step 1: Merge the two DataFrames on all columns to find matching rows\n",
    "matching_rows = pd.merge(auto_dedup, manual_dedup, how='inner')\n",
    "\n",
    "# Step 2: Count the number of matching rows\n",
    "num_matching_rows = len(matching_rows)\n",
    "\n",
    "print(\"num matching rows: \", num_matching_rows)\n",
    "\n",
    "\n",
    "# get unmatched rows\n",
    "unmatched_rows = pd.concat([matching_rows, manual_dedup]).drop_duplicates(keep=False)\n",
    "\n",
    "print(\"num unmatched rows: \", len(unmatched_rows))\n",
    "\n",
    "unmatched_rows.to_csv(\"../data/article_data/companies_disagreed_on_manual_vs_auto_dedup.csv\", index=False)"
   ]
  },
  {
   "cell_type": "code",
   "execution_count": 8,
   "metadata": {},
   "outputs": [
    {
     "name": "stderr",
     "output_type": "stream",
     "text": [
      "\n",
      "[notice] A new release of pip is available: 24.2 -> 24.3.1\n",
      "[notice] To update, run: python.exe -m pip install --upgrade pip\n"
     ]
    },
    {
     "name": "stdout",
     "output_type": "stream",
     "text": [
      "Requirement already satisfied: pandas in c:\\users\\12537\\school\\data science\\breachnews\\.venv\\lib\\site-packages (2.2.3)\n",
      "Requirement already satisfied: numpy>=1.26.0 in c:\\users\\12537\\school\\data science\\breachnews\\.venv\\lib\\site-packages (from pandas) (2.1.3)\n",
      "Requirement already satisfied: python-dateutil>=2.8.2 in c:\\users\\12537\\school\\data science\\breachnews\\.venv\\lib\\site-packages (from pandas) (2.9.0.post0)\n",
      "Requirement already satisfied: pytz>=2020.1 in c:\\users\\12537\\school\\data science\\breachnews\\.venv\\lib\\site-packages (from pandas) (2024.2)\n",
      "Requirement already satisfied: tzdata>=2022.7 in c:\\users\\12537\\school\\data science\\breachnews\\.venv\\lib\\site-packages (from pandas) (2024.2)\n",
      "Requirement already satisfied: six>=1.5 in c:\\users\\12537\\school\\data science\\breachnews\\.venv\\lib\\site-packages (from python-dateutil>=2.8.2->pandas) (1.16.0)\n",
      "Note: you may need to restart the kernel to use updated packages.\n",
      "7834\n"
     ]
    }
   ],
   "source": [
    "%pip install pandas\n",
    "\n",
    "import pandas as pd\n",
    "\n",
    "duplicates = pd.read_csv(\"../data/article_data/joined_articles_dup_companies.csv\")\n",
    "\n",
    "# drop duplicate rows by Headline and URL\n",
    "df_dedup = duplicates.loc[duplicates.groupby(['Headline', 'URL'])['total employee estimate'].idxmax()].reset_index(drop=True)\n",
    "\n",
    "print(len(df_dedup))"
   ]
  }
 ],
 "metadata": {
  "kernelspec": {
   "display_name": ".venv",
   "language": "python",
   "name": "python3"
  },
  "language_info": {
   "codemirror_mode": {
    "name": "ipython",
    "version": 3
   },
   "file_extension": ".py",
   "mimetype": "text/x-python",
   "name": "python",
   "nbconvert_exporter": "python",
   "pygments_lexer": "ipython3",
   "version": "3.12.0"
  }
 },
 "nbformat": 4,
 "nbformat_minor": 2
}
