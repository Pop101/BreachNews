{
 "cells": [
  {
   "cell_type": "code",
   "execution_count": 5,
   "metadata": {},
   "outputs": [],
   "source": [
    "import pandas as pd\n",
    "import os\n",
    "\n",
    "# Folder path containing CSV files\n",
    "folder_path = \"../data/run_1\"\n",
    "\n",
    "# List to hold data from each CSV file\n",
    "data_frames = []\n",
    "\n",
    "# Loop through each file in the folder\n",
    "for filename in os.listdir(folder_path):\n",
    "    if filename.endswith(\".csv\"):\n",
    "        file_path = os.path.join(folder_path, filename)\n",
    "        \n",
    "        # Read the CSV file into a DataFrame\n",
    "        df = pd.read_csv(file_path)\n",
    "        \n",
    "        # Filter rows where 'BreachMentioned' column has \"Yes\"\n",
    "        filtered_df = df[df['BreachMentioned'] == \"Yes\"]\n",
    "        \n",
    "        # Append the filtered DataFrame to the list\n",
    "        data_frames.append(filtered_df)\n",
    "\n",
    "# Concatenate all filtered DataFrames\n",
    "final_df = pd.concat(data_frames, ignore_index=True)\n",
    "final_df = final_df.drop_duplicates(subset=['URL'])\n",
    "\n",
    "# Save the final concatenated DataFrame to a new CSV\n",
    "final_df.to_csv(\"../data/articles_about_breaches.csv\", index=False)\n"
   ]
  },
  {
   "cell_type": "code",
   "execution_count": 8,
   "metadata": {},
   "outputs": [],
   "source": [
    "import pandas as pd\n",
    "\n",
    "df = pd.read_csv(\"../data/articles_about_breaches.csv\")\n",
    "\n",
    "filtered_df = df[~df['CompanyMentioned'].isin([\"False\", \"false\"])]\n",
    "\n",
    "# Save the final concatenated DataFrame to a new CSV\n",
    "filtered_df.to_csv(\"../data/articles_about_breaches_with_company_name.csv\", index=False)\n"
   ]
  }
 ],
 "metadata": {
  "kernelspec": {
   "display_name": ".conda",
   "language": "python",
   "name": "python3"
  },
  "language_info": {
   "codemirror_mode": {
    "name": "ipython",
    "version": 3
   },
   "file_extension": ".py",
   "mimetype": "text/x-python",
   "name": "python",
   "nbconvert_exporter": "python",
   "pygments_lexer": "ipython3",
   "version": "3.11.9"
  }
 },
 "nbformat": 4,
 "nbformat_minor": 2
}
