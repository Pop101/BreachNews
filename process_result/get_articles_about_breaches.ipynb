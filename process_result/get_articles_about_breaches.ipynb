{
 "cells": [
  {
   "cell_type": "markdown",
   "metadata": {},
   "source": [
    "## Filter classified to only articles about breaches"
   ]
  },
  {
   "cell_type": "code",
   "execution_count": 23,
   "metadata": {},
   "outputs": [],
   "source": [
    "import pandas as pd\n",
    "import os\n",
    "\n",
    "# Folder path containing CSV files\n",
    "folder_path = \"../data/run_1\"\n",
    "\n",
    "# List to hold data from each CSV file\n",
    "data_frames = []\n",
    "\n",
    "# Loop through each file in the folder\n",
    "for filename in os.listdir(folder_path):\n",
    "    if filename.endswith(\".csv\"):\n",
    "        file_path = os.path.join(folder_path, filename)\n",
    "        \n",
    "        # Read the CSV file into a DataFrame\n",
    "        df = pd.read_csv(file_path)\n",
    "\n",
    "        df = df.dropna(subset=['BreachMentioned'], how='any')\n",
    "        \n",
    "        # Filter rows where 'BreachMentioned' column has is not false\n",
    "        filtered_df = df[~df['BreachMentioned'].isin([\"flase\", \"False\"])]\n",
    "        \n",
    "        # Append the filtered DataFrame to the list\n",
    "        data_frames.append(filtered_df)\n",
    "\n",
    "# Concatenate all filtered DataFrames\n",
    "combined_df = pd.concat(data_frames, ignore_index=True)\n",
    "\n",
    "df_deduped = combined_df.loc[combined_df.groupby('URL')['Date'].idxmin()]\n",
    "df_deduped = df_deduped.loc[df_deduped.groupby(['Headline', 'Publication'])['Date'].idxmin()]\n",
    "\n",
    "df_deduped = df_deduped.drop_duplicates(subset=['URL'])\n",
    "df_deduped = df_deduped.drop_duplicates(subset=['Headline', 'Publication'])\n",
    "\n",
    "# Save the final concatenated DataFrame to a new CSV\n",
    "df_deduped.to_csv(\"../data/article_data/articles_about_breaches.csv\", index=False)\n"
   ]
  },
  {
   "cell_type": "markdown",
   "metadata": {},
   "source": [
    "## classified about breach with company mentioned that is not government"
   ]
  },
  {
   "cell_type": "code",
   "execution_count": 26,
   "metadata": {},
   "outputs": [],
   "source": [
    "import pandas as pd\n",
    "\n",
    "df = pd.read_csv(\"../data/article_data/articles_about_breaches.csv\")\n",
    "\n",
    "filtered_df = df[~df['CompanyMentioned'].isin([\"False\", \"false\", \"Government\", \"government\"])]\n",
    "\n",
    "filtered_df = filtered_df.dropna(subset=['CompanyMentioned'], how='any')\n",
    "\n",
    "# Save the final concatenated DataFrame to a new CSV\n",
    "filtered_df.to_csv(\"../data/article_data/articles_about_breaches_with_company_name_not_gov.csv\", index=False)\n"
   ]
  }
 ],
 "metadata": {
  "kernelspec": {
   "display_name": ".conda",
   "language": "python",
   "name": "python3"
  },
  "language_info": {
   "codemirror_mode": {
    "name": "ipython",
    "version": 3
   },
   "file_extension": ".py",
   "mimetype": "text/x-python",
   "name": "python",
   "nbconvert_exporter": "python",
   "pygments_lexer": "ipython3",
   "version": "3.11.9"
  }
 },
 "nbformat": 4,
 "nbformat_minor": 2
}
