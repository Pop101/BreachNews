{
 "cells": [
  {
   "cell_type": "code",
   "execution_count": 2,
   "metadata": {},
   "outputs": [],
   "source": [
    "import pandas as pd\n",
    "import os\n",
    "\n",
    "companies_data = pd.read_csv(\"../data/companies.csv\")\n",
    "articles_data = pd.read_csv(\"../data/articles_about_breaches.csv\")\n",
    "\n",
    "companies_data['name_lower'] = companies_data['name'].str.lower()\n",
    "articles_data['CompanyMentioned_lower'] = articles_data['CompanyMentioned'].str.lower()\n",
    "\n",
    "# Perform the join on the lowercase columns\n",
    "result_df = pd.merge(companies_data, articles_data, left_on='name_lower', right_on='CompanyMentioned_lower', how='inner')\n",
    "\n",
    "# Drop the helper lowercase columns if desired\n",
    "result_df = result_df.drop(columns=['name_lower', 'CompanyMentioned_lower'])\n",
    "\n",
    "result_df.to_csv(\"../data/joined_articles_companies.csv\", index=False)"
   ]
  }
 ],
 "metadata": {
  "kernelspec": {
   "display_name": ".conda",
   "language": "python",
   "name": "python3"
  },
  "language_info": {
   "codemirror_mode": {
    "name": "ipython",
    "version": 3
   },
   "file_extension": ".py",
   "mimetype": "text/x-python",
   "name": "python",
   "nbconvert_exporter": "python",
   "pygments_lexer": "ipython3",
   "version": "3.11.9"
  }
 },
 "nbformat": 4,
 "nbformat_minor": 2
}
