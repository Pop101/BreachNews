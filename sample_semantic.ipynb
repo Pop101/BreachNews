{
 "cells": [
  {
   "cell_type": "code",
   "execution_count": 1,
   "metadata": {},
   "outputs": [],
   "source": [
    "import pandas as pd\n",
    "import numpy as np\n",
    "from tqdm import tqdm, trange\n",
    "tqdm.pandas()\n",
    "\n",
    "from tools import embedding_pipeline, save_collection, load_collection\n",
    "from chromadb import Documents, EmbeddingFunction, Embeddings\n",
    "import chromadb\n",
    "\n",
    "import pickle"
   ]
  },
  {
   "cell_type": "code",
   "execution_count": 2,
   "metadata": {},
   "outputs": [],
   "source": [
    "master_dataset = pd.read_csv('./data/headlines.csv')\n"
   ]
  },
  {
   "cell_type": "code",
   "execution_count": 3,
   "metadata": {},
   "outputs": [],
   "source": [
    "DUPLICATE_SUBSET = ['Publication','Headline']\n",
    "NUM_SAMPLES = 200"
   ]
  },
  {
   "cell_type": "code",
   "execution_count": 4,
   "metadata": {},
   "outputs": [
    {
     "name": "stderr",
     "output_type": "stream",
     "text": [
      "100%|█████████████████████████████████████████████████████████████████████████████████████████████████████████████████████████████████████████████████████████████████████████████████████████| 51/51 [07:21<00:00,  8.66s/it]\n"
     ]
    }
   ],
   "source": [
    "chroma = chromadb.PersistentClient(path=\"./chromadb\")\n",
    "collection = chroma.get_collection(\"all-headlines\")\n",
    "\n",
    "all_embeddings = list()\n",
    "space_start, space_end = None, None\n",
    "\n",
    "existing_count = collection.count()\n",
    "batch_size = 50_000\n",
    "for i in trange(0, existing_count, batch_size):\n",
    "    batch = collection.get(include=['embeddings'], limit=batch_size, offset=i)\n",
    "    for embd in batch['embeddings']:\n",
    "        all_embeddings.append(embd)\n",
    "        if space_start is None or space_end is None:\n",
    "            space_start = embd\n",
    "            space_end = embd\n",
    "        else:\n",
    "            space_start = np.minimum(space_start, embd)\n",
    "            space_end = np.maximum(space_end, embd)"
   ]
  },
  {
   "cell_type": "code",
   "execution_count": 5,
   "metadata": {},
   "outputs": [
    {
     "name": "stderr",
     "output_type": "stream",
     "text": [
      "100%|██████████████████████████████████████████████████████████████████████████████████████████████████████████████████████████████████████████████████████████████████████████████████████| 200/200 [00:00<00:00, 297.75it/s]\n"
     ]
    }
   ],
   "source": [
    "# Sample entire space\n",
    "\n",
    "samples = []\n",
    "sample_df = pd.DataFrame(columns=['rule'])\n",
    "for sample in tqdm(np.linspace(space_start, space_end, NUM_SAMPLES)):\n",
    "    query = collection.query(\n",
    "        query_embeddings=[list(sample)],\n",
    "        include=['documents'],\n",
    "        n_results = 1\n",
    "    )\n",
    "    rule_idx = query['ids'][0][0]\n",
    "    rule_text = query['documents'][0][0]\n",
    "    idx = int(rule_idx.split('-')[1])\n",
    "    \n",
    "    # Append to samples\n",
    "    sample_df.loc[idx] = rule_text\n",
    "sample_df = sample_df.drop_duplicates()\n",
    "sample_df = master_dataset.loc[sample_df.index].drop_duplicates(subset=DUPLICATE_SUBSET)\n",
    "sample_df.to_csv('sampled_rules_uniform.csv', index=False)"
   ]
  },
  {
   "cell_type": "code",
   "execution_count": 14,
   "metadata": {},
   "outputs": [],
   "source": [
    "# Sample randomly based on articles containing keywords related to data breaches\n",
    "import re\n",
    "keywords = {'breach', 'data', 'hack', 'record', 'leak'}\n",
    "regex = re.compile('|'.join(map(lambda x: f\"(\\s|^){x}\",keywords)), re.IGNORECASE)\n",
    "sample_df = master_dataset[master_dataset['Headline'].apply(lambda s: bool(regex.search(str(s))))]\n",
    "sample_df = sample_df.drop_duplicates(subset=DUPLICATE_SUBSET).sample(NUM_SAMPLES)\n",
    "sample_df.to_csv('sampled_rules_keyword_random.csv', index=False)"
   ]
  },
  {
   "cell_type": "code",
   "execution_count": 8,
   "metadata": {},
   "outputs": [
    {
     "ename": "Exception",
     "evalue": "the following code crashes the kernel",
     "output_type": "error",
     "traceback": [
      "\u001b[0;31m---------------------------------------------------------------------------\u001b[0m",
      "\u001b[0;31mException\u001b[0m                                 Traceback (most recent call last)",
      "\u001b[1;32mc:\\Users\\leonl\\OneDrive\\College\\Senior\\CSE 481DS\\Analysis\\sample_semantic.ipynb Cell 7\u001b[0m line \u001b[0;36m1\n\u001b[0;32m----> <a href='vscode-notebook-cell:/c%3A/Users/leonl/OneDrive/College/Senior/CSE%20481DS/Analysis/sample_semantic.ipynb#X12sZmlsZQ%3D%3D?line=0'>1</a>\u001b[0m \u001b[39mraise\u001b[39;00m \u001b[39mException\u001b[39;00m(\u001b[39m\"\u001b[39m\u001b[39mthe following code crashes the kernel\u001b[39m\u001b[39m\"\u001b[39m)\n",
      "\u001b[0;31mException\u001b[0m: the following code crashes the kernel"
     ]
    }
   ],
   "source": [
    "raise Exception(\"the following code crashes the kernel\")"
   ]
  },
  {
   "cell_type": "code",
   "execution_count": 9,
   "metadata": {},
   "outputs": [],
   "source": [
    "# sample with k-means (usually crashes on PC due to no ram)\n",
    "from sklearn.cluster import KMeans\n",
    "\n",
    "# Sample random embeddings from all_embeddings\n",
    "all_embeddings = np.array(all_embeddings)\n",
    "np.random.shuffle(all_embeddings)\n",
    "k_means = KMeans(n_clusters=NUM_SAMPLES, random_state=0, n_init=\"auto\").fit(all_embeddings[:200_000])"
   ]
  },
  {
   "cell_type": "code",
   "execution_count": 11,
   "metadata": {},
   "outputs": [],
   "source": [
    "sample_df = pd.DataFrame(columns=['rule'])\n",
    "\n",
    "for cluster in k_means.cluster_centers_:\n",
    "    query = collection.query(\n",
    "        query_embeddings=[list(cluster)],\n",
    "        include=['documents'],\n",
    "        n_results = 1\n",
    "    )\n",
    "    rule_idx = query['ids'][0][0]\n",
    "    rule_text = query['documents'][0][0]\n",
    "    idx = int(rule_idx.split('-')[1])\n",
    "    \n",
    "    sample_df.loc[idx] = rule_text\n",
    "\n",
    "sample_df = sample_df.drop_duplicates()\n",
    "sample_df = master_dataset.loc[sample_df.index].drop_duplicates(subset=DUPLICATE_SUBSET)\n",
    "sample_df.to_csv('sampled_rules_k_means.csv', index=False)"
   ]
  }
 ],
 "metadata": {
  "kernelspec": {
   "display_name": "Python 3 (ipykernel)",
   "language": "python",
   "name": "python3"
  },
  "language_info": {
   "codemirror_mode": {
    "name": "ipython",
    "version": 3
   },
   "file_extension": ".py",
   "mimetype": "text/x-python",
   "name": "python",
   "nbconvert_exporter": "python",
   "pygments_lexer": "ipython3",
   "version": "3.11.10"
  }
 },
 "nbformat": 4,
 "nbformat_minor": 2
}
