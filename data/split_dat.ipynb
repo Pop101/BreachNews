{
 "cells": [
  {
   "cell_type": "code",
   "execution_count": 4,
   "metadata": {},
   "outputs": [],
   "source": [
    "import pandas as pd\n",
    "import os\n",
    "from tools import chunkify\n",
    "\n",
    "# Path to your CSV files\n",
    "csv_folder = './data/pipeline_run_1'  # Update this to your folder path\n",
    "output_folder = 'path/to/output/files'  # Update this to your desired output folder\n",
    "\n",
    "# Load entire folder to DF\n",
    "files = [os.path.join(csv_folder, f) for f in os.listdir(csv_folder) if f.endswith('.csv')]\n",
    "df = pd.concat([pd.read_csv(f) for f in files])"
   ]
  },
  {
   "cell_type": "code",
   "execution_count": null,
   "metadata": {},
   "outputs": [],
   "source": [
    "PER_FILE_LEN = 500_000  # Number of rows per file\n",
    "\n",
    "for chunk in chunkify(df, PER_FILE_LEN):\n",
    "    chunk.to_csv(f'{output_folder}/classified_headlines_{chunk.index[0]}_{chunk.index[-1]}.csv', index=False)"
   ]
  }
 ],
 "metadata": {
  "kernelspec": {
   "display_name": "Python 3 (ipykernel)",
   "language": "python",
   "name": "python3"
  },
  "language_info": {
   "codemirror_mode": {
    "name": "ipython",
    "version": 3
   },
   "file_extension": ".py",
   "mimetype": "text/x-python",
   "name": "python",
   "nbconvert_exporter": "python",
   "pygments_lexer": "ipython3",
   "version": "3.11.10"
  }
 },
 "nbformat": 4,
 "nbformat_minor": 2
}
