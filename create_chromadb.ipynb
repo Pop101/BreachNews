{
 "cells": [
  {
   "cell_type": "code",
   "execution_count": 9,
   "metadata": {},
   "outputs": [],
   "source": [
    "import pandas as pd\n",
    "import numpy as np\n",
    "from tqdm import tqdm\n",
    "tqdm.pandas()\n",
    "\n",
    "from tools import embedding_pipeline, save_collection, load_collection\n",
    "from chromadb import Documents, EmbeddingFunction, Embeddings\n",
    "import chromadb\n",
    "\n",
    "import pickle"
   ]
  },
  {
   "cell_type": "markdown",
   "metadata": {},
   "source": [
    "# Semantic Sampling\n",
    "\n",
    "To support GPT4 few-shot learning, it would be helpful to have sufficient sampling across the semantic space. This notebook seeks to compute a semantic space from all source data, then uniformly sample from this space to create a label-ready dataset."
   ]
  },
  {
   "cell_type": "code",
   "execution_count": 10,
   "metadata": {},
   "outputs": [],
   "source": [
    "master_dataset = pd.read_csv('./data/headlines.csv')\n",
    "rules_dataset = master_dataset['Headline'].drop_duplicates()"
   ]
  },
  {
   "cell_type": "code",
   "execution_count": 11,
   "metadata": {},
   "outputs": [],
   "source": [
    "DUPLICATE_SUBSET = ['Publication','Headline']"
   ]
  },
  {
   "cell_type": "code",
   "execution_count": 12,
   "metadata": {},
   "outputs": [
    {
     "name": "stderr",
     "output_type": "stream",
     "text": [
      "<All keys matched successfully>\n"
     ]
    }
   ],
   "source": [
    "chroma = chromadb.PersistentClient(path=\"./chromadb\")\n",
    "\n",
    "class MyEmbeddingFunction(EmbeddingFunction):\n",
    "    def __init__(self):\n",
    "        self.embedder = embedding_pipeline()\n",
    "        \n",
    "    def __call__(self, input: Documents) -> Embeddings:\n",
    "        return self.embedder(input)[0] # long_text_mode=\"mean\" ?\n",
    "    \n",
    "from chromadb.utils import embedding_functions\n",
    "default_ef = embedding_functions.DefaultEmbeddingFunction()\n",
    "ef         = MyEmbeddingFunction()\n",
    "collection = chroma.get_or_create_collection(\"all-headlines\", embedding_function=ef)"
   ]
  },
  {
   "cell_type": "code",
   "execution_count": 13,
   "metadata": {},
   "outputs": [
    {
     "name": "stderr",
     "output_type": "stream",
     "text": [
      "  0%|                                               | 0/2548095 [00:00<?, ?it/s]"
     ]
    },
    {
     "name": "stderr",
     "output_type": "stream",
     "text": [
      "100%|██████████████████████████████| 2548095/2548095 [31:49:52<00:00, 22.24it/s]\n"
     ]
    }
   ],
   "source": [
    "# Compute Embedding-DB\n",
    "# Takes ~7hrs\n",
    "\n",
    "i = 0 # Manually index so tqdm can show progress\n",
    "space_start = None\n",
    "space_end = None\n",
    "for rule in tqdm(rules_dataset):\n",
    "    if not rule or not isinstance(rule, str): continue\n",
    "    \n",
    "    embedding = ef([rule])\n",
    "    if space_start is None or space_end is None:\n",
    "        space_start = embedding[0]\n",
    "        space_end = embedding[0]\n",
    "    else:\n",
    "        space_start = np.minimum(space_start, embedding[0])\n",
    "        space_end = np.maximum(space_end, embedding[0])\n",
    "    \n",
    "    # While we don't need to delete, chromadb will print a warning\n",
    "    # This leads to vscode crashing\n",
    "    #if collection.get(ids=[f\"rule-{i}\"])['ids']: collection.delete(ids=[f\"rule-{i}\"])\n",
    "    collection.upsert(ids=[f\"rule-{i}\"], documents=[rule], embeddings=embedding)\n",
    "    i+=1"
   ]
  },
  {
   "cell_type": "code",
   "execution_count": 14,
   "metadata": {},
   "outputs": [],
   "source": [
    "# Collection will autosave"
   ]
  },
  {
   "cell_type": "code",
   "execution_count": 1,
   "metadata": {},
   "outputs": [
    {
     "ename": "NameError",
     "evalue": "name 'pd' is not defined",
     "output_type": "error",
     "traceback": [
      "\u001b[0;31m---------------------------------------------------------------------------\u001b[0m",
      "\u001b[0;31mNameError\u001b[0m                                 Traceback (most recent call last)",
      "\u001b[1;32mc:\\Users\\leonl\\OneDrive\\College\\Senior\\CSE 481DS\\Analysis\\create_chromadb.ipynb Cell 8\u001b[0m line \u001b[0;36m5\n\u001b[1;32m      <a href='vscode-notebook-cell:/c%3A/Users/leonl/OneDrive/College/Senior/CSE%20481DS/Analysis/create_chromadb.ipynb#X22sZmlsZQ%3D%3D?line=1'>2</a>\u001b[0m NUM_SAMPLES \u001b[39m=\u001b[39m \u001b[39m200\u001b[39m\n\u001b[1;32m      <a href='vscode-notebook-cell:/c%3A/Users/leonl/OneDrive/College/Senior/CSE%20481DS/Analysis/create_chromadb.ipynb#X22sZmlsZQ%3D%3D?line=2'>3</a>\u001b[0m samples \u001b[39m=\u001b[39m []\n\u001b[0;32m----> <a href='vscode-notebook-cell:/c%3A/Users/leonl/OneDrive/College/Senior/CSE%20481DS/Analysis/create_chromadb.ipynb#X22sZmlsZQ%3D%3D?line=4'>5</a>\u001b[0m sample_df \u001b[39m=\u001b[39m pd\u001b[39m.\u001b[39mDataFrame(columns\u001b[39m=\u001b[39m[\u001b[39m'\u001b[39m\u001b[39mrule\u001b[39m\u001b[39m'\u001b[39m])\n\u001b[1;32m      <a href='vscode-notebook-cell:/c%3A/Users/leonl/OneDrive/College/Senior/CSE%20481DS/Analysis/create_chromadb.ipynb#X22sZmlsZQ%3D%3D?line=5'>6</a>\u001b[0m \u001b[39mfor\u001b[39;00m sample \u001b[39min\u001b[39;00m tqdm(np\u001b[39m.\u001b[39mlinspace(space_start, space_end, NUM_SAMPLES)):\n\u001b[1;32m      <a href='vscode-notebook-cell:/c%3A/Users/leonl/OneDrive/College/Senior/CSE%20481DS/Analysis/create_chromadb.ipynb#X22sZmlsZQ%3D%3D?line=6'>7</a>\u001b[0m     query \u001b[39m=\u001b[39m collection\u001b[39m.\u001b[39mquery(\n\u001b[1;32m      <a href='vscode-notebook-cell:/c%3A/Users/leonl/OneDrive/College/Senior/CSE%20481DS/Analysis/create_chromadb.ipynb#X22sZmlsZQ%3D%3D?line=7'>8</a>\u001b[0m         query_embeddings\u001b[39m=\u001b[39m[\u001b[39mlist\u001b[39m(sample)],\n\u001b[1;32m      <a href='vscode-notebook-cell:/c%3A/Users/leonl/OneDrive/College/Senior/CSE%20481DS/Analysis/create_chromadb.ipynb#X22sZmlsZQ%3D%3D?line=8'>9</a>\u001b[0m         include\u001b[39m=\u001b[39m[\u001b[39m'\u001b[39m\u001b[39mdocuments\u001b[39m\u001b[39m'\u001b[39m],\n\u001b[1;32m     <a href='vscode-notebook-cell:/c%3A/Users/leonl/OneDrive/College/Senior/CSE%20481DS/Analysis/create_chromadb.ipynb#X22sZmlsZQ%3D%3D?line=9'>10</a>\u001b[0m         n_results \u001b[39m=\u001b[39m \u001b[39m1\u001b[39m\n\u001b[1;32m     <a href='vscode-notebook-cell:/c%3A/Users/leonl/OneDrive/College/Senior/CSE%20481DS/Analysis/create_chromadb.ipynb#X22sZmlsZQ%3D%3D?line=10'>11</a>\u001b[0m     )\n",
      "\u001b[0;31mNameError\u001b[0m: name 'pd' is not defined"
     ]
    },
    {
     "ename": "",
     "evalue": "",
     "output_type": "error",
     "traceback": [
      "\u001b[1;31mThe Kernel crashed while executing code in the the current cell or a previous cell. Please review the code in the cell(s) to identify a possible cause of the failure. Click <a href='https://aka.ms/vscodeJupyterKernelCrash'>here</a> for more info. View Jupyter <a href='command:jupyter.viewOutput'>log</a> for further details."
     ]
    },
    {
     "ename": "",
     "evalue": "",
     "output_type": "error",
     "traceback": [
      "\u001b[1;31mThe Kernel crashed while executing code in the the current cell or a previous cell. Please review the code in the cell(s) to identify a possible cause of the failure. Click <a href='https://aka.ms/vscodeJupyterKernelCrash'>here</a> for more info. View Jupyter <a href='command:jupyter.viewOutput'>log</a> for further details."
     ]
    },
    {
     "ename": "",
     "evalue": "",
     "output_type": "error",
     "traceback": [
      "\u001b[1;31mThe Kernel crashed while executing code in the the current cell or a previous cell. Please review the code in the cell(s) to identify a possible cause of the failure. Click <a href='https://aka.ms/vscodeJupyterKernelCrash'>here</a> for more info. View Jupyter <a href='command:jupyter.viewOutput'>log</a> for further details."
     ]
    },
    {
     "ename": "",
     "evalue": "",
     "output_type": "error",
     "traceback": [
      "\u001b[1;31mThe Kernel crashed while executing code in the the current cell or a previous cell. Please review the code in the cell(s) to identify a possible cause of the failure. Click <a href='https://aka.ms/vscodeJupyterKernelCrash'>here</a> for more info. View Jupyter <a href='command:jupyter.viewOutput'>log</a> for further details."
     ]
    },
    {
     "ename": "",
     "evalue": "",
     "output_type": "error",
     "traceback": [
      "\u001b[1;31mThe Kernel crashed while executing code in the the current cell or a previous cell. Please review the code in the cell(s) to identify a possible cause of the failure. Click <a href='https://aka.ms/vscodeJupyterKernelCrash'>here</a> for more info. View Jupyter <a href='command:jupyter.viewOutput'>log</a> for further details."
     ]
    }
   ],
   "source": []
  },
  {
   "cell_type": "code",
   "execution_count": null,
   "metadata": {},
   "outputs": [
    {
     "name": "stderr",
     "output_type": "stream",
     "text": [
      "  0%|                                                   | 0/200 [00:00<?, ?it/s]"
     ]
    },
    {
     "name": "stderr",
     "output_type": "stream",
     "text": [
      "100%|█████████████████████████████████████████| 200/200 [00:02<00:00, 69.23it/s]\n"
     ]
    }
   ],
   "source": []
  },
  {
   "cell_type": "code",
   "execution_count": null,
   "metadata": {},
   "outputs": [
    {
     "ename": "",
     "evalue": "",
     "output_type": "error",
     "traceback": [
      "\u001b[1;31mThe Kernel crashed while executing code in the the current cell or a previous cell. Please review the code in the cell(s) to identify a possible cause of the failure. Click <a href='https://aka.ms/vscodeJupyterKernelCrash'>here</a> for more info. View Jupyter <a href='command:jupyter.viewOutput'>log</a> for further details."
     ]
    },
    {
     "ename": "",
     "evalue": "",
     "output_type": "error",
     "traceback": [
      "\u001b[1;31mCanceled future for execute_request message before replies were done"
     ]
    }
   ],
   "source": []
  },
  {
   "cell_type": "code",
   "execution_count": null,
   "metadata": {},
   "outputs": [],
   "source": []
  }
 ],
 "metadata": {
  "kernelspec": {
   "display_name": "Python 3 (ipykernel)",
   "language": "python",
   "name": "python3"
  }
 },
 "nbformat": 4,
 "nbformat_minor": 2
}
