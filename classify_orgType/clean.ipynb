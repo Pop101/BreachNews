{
 "cells": [
  {
   "cell_type": "code",
   "execution_count": null,
   "metadata": {},
   "outputs": [
    {
     "data": {
      "text/plain": [
       "array(['healthcare', 'social networking', 'tech', 'advertising',\n",
       "       'telecommunications', 'transport', 'web', 'financial', 'gaming',\n",
       "       'tech, retail', 'telecoms', 'dating', 'government', 'academic',\n",
       "       'retail', 'educational services', 'gambling', 'banking', 'game',\n",
       "       'energy', 'background check', 'information technology',\n",
       "       'hosting provider', 'military', 'health', 'consulting, accounting',\n",
       "       'political', 'messaging app', 'restaurant',\n",
       "       'financial, credit reporting', 'data broker', 'social network',\n",
       "       'financial service company', 'Information Security',\n",
       "       'personal and demographic data about residents and their properties of US',\n",
       "       'hotel', 'humanitarian', 'special public corporation', 'shopping',\n",
       "       'local search', 'mobile carrier', 'publisher (magazine)',\n",
       "       'government, healthcare', 'software', 'web, military',\n",
       "       'online shopping', 'genealogy', 'media', 'telecom',\n",
       "       'QR code payment', 'fashion', 'Clinical Laboratory',\n",
       "       'Question & Answer', 'web, gaming', 'government, database',\n",
       "       'phone accessories', 'web, tech', 'Network Monitoring',\n",
       "       'market analysis', 'ticket distribution', 'social media',\n",
       "       'military, healthcare', 'Telephone directory', 'Consumer Goods',\n",
       "       'government, military', 'online marketing', 'arts group',\n",
       "       'web service', 'tech, web', 'various'], dtype=object)"
      ]
     },
     "execution_count": 6,
     "metadata": {},
     "output_type": "execute_result"
    }
   ],
   "source": [
    "import pandas as pd\n",
    "\n",
    "devasator = pd.read_csv('../data/breaches/breaches_devastator.csv')\n",
    "devasator_orgTypes = devasator['Organization type'].unique()\n",
    "devasator_orgTypes"
   ]
  },
  {
   "cell_type": "code",
   "execution_count": null,
   "metadata": {},
   "outputs": [
    {
     "data": {
      "text/plain": [
       "array(['Technology', 'Retail', 'Government', 'Healthcare', 'Finance'],\n",
       "      dtype=object)"
      ]
     },
     "execution_count": 5,
     "metadata": {},
     "output_type": "execute_result"
    }
   ],
   "source": [
    "huz1020 = pd.read_csv('../data/breaches/breaches_huz1020.csv')\n",
    "huz1020['Industry'].unique()"
   ]
  },
  {
   "cell_type": "code",
   "execution_count": null,
   "metadata": {},
   "outputs": [],
   "source": [
    "category_mapping = {\n",
    "    # Technology related\n",
    "    'tech': 'Technology',\n",
    "    'web': 'Technology',\n",
    "    'information technology': 'Technology',\n",
    "    'hosting provider': 'Technology',\n",
    "    'Information Security': 'Technology',\n",
    "    'software': 'Technology',\n",
    "    'Network Monitoring': 'Technology',\n",
    "    'web service': 'Technology',\n",
    "    'tech, web': 'Technology',\n",
    "    'web, tech': 'Technology',\n",
    "    'web, gaming': 'Technology',\n",
    "    'messaging app': 'Technology',\n",
    "    'QR code payment': 'Technology',\n",
    "    'social networking': 'Technology',\n",
    "    'social network': 'Technology',\n",
    "    'social media': 'Technology',\n",
    "    'telecoms': 'Technology',\n",
    "    'telecommunications': 'Technology',\n",
    "    'telecom': 'Technology',\n",
    "    'mobile carrier': 'Technology',\n",
    "\n",
    "    # Retail related\n",
    "    'retail': 'Retail',\n",
    "    'tech, retail': 'Retail',\n",
    "    'shopping': 'Retail',\n",
    "    'online shopping': 'Retail',\n",
    "    'fashion': 'Retail',\n",
    "    'phone accessories': 'Retail',\n",
    "    'Consumer Goods': 'Retail',\n",
    "    'restaurant': 'Retail',\n",
    "    'hotel': 'Retail',\n",
    "\n",
    "    # Government related\n",
    "    'government': 'Government',\n",
    "    'government, database': 'Government',\n",
    "    'government, military': 'Government',\n",
    "    'military': 'Government',\n",
    "    'web, military': 'Government',\n",
    "    'special public corporation': 'Government',\n",
    "    'political': 'Government',\n",
    "\n",
    "    # Healthcare related\n",
    "    'healthcare': 'Healthcare',\n",
    "    'health': 'Healthcare',\n",
    "    'government, healthcare': 'Healthcare',\n",
    "    'military, healthcare': 'Healthcare',\n",
    "    'Clinical Laboratory': 'Healthcare',\n",
    "\n",
    "    # Finance related\n",
    "    'financial': 'Finance',\n",
    "    'banking': 'Finance',\n",
    "    'financial, credit reporting': 'Finance',\n",
    "    'financial service company': 'Finance',\n",
    "\n",
    "    # Others\n",
    "    'advertising': 'others',\n",
    "    'transport': 'others',\n",
    "    'gaming': 'others',\n",
    "    'game': 'others',\n",
    "    'dating': 'others',\n",
    "    'academic': 'others',\n",
    "    'educational services': 'others',\n",
    "    'gambling': 'others',\n",
    "    'energy': 'others',\n",
    "    'background check': 'others',\n",
    "    'consulting, accounting': 'others',\n",
    "    'data broker': 'others',\n",
    "    'personal and demographic data about residents and their properties of US': 'others',\n",
    "    'humanitarian': 'others',\n",
    "    'local search': 'others',\n",
    "    'publisher (magazine)': 'others',\n",
    "    'genealogy': 'others',\n",
    "    'media': 'others',\n",
    "    'Question & Answer': 'others',\n",
    "    'market analysis': 'others',\n",
    "    'ticket distribution': 'others',\n",
    "    'Telephone directory': 'others',\n",
    "    'online marketing': 'others',\n",
    "    'arts group': 'others',\n",
    "    'various': 'others'\n",
    "}\n",
    "\n",
    "devasator['Organization type'] = devasator['Organization type'].map(category_mapping)\n",
    "devasator['Organization type'].unique()\n",
    "devasator.to_csv('./breaches_devastator.csv', index=False)"
   ]
  }
 ],
 "metadata": {
  "kernelspec": {
   "display_name": "vllm",
   "language": "python",
   "name": "python3"
  },
  "language_info": {
   "codemirror_mode": {
    "name": "ipython",
    "version": 3
   },
   "file_extension": ".py",
   "mimetype": "text/x-python",
   "name": "python",
   "nbconvert_exporter": "python",
   "pygments_lexer": "ipython3",
   "version": "3.10.14"
  }
 },
 "nbformat": 4,
 "nbformat_minor": 2
}
