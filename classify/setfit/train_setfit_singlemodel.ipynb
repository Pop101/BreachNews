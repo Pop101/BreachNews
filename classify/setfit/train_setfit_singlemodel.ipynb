{
 "cells": [
  {
   "cell_type": "code",
   "execution_count": 38,
   "metadata": {},
   "outputs": [],
   "source": [
    "from datasets import load_dataset\n",
    "from sentence_transformers.losses import CosineSimilarityLoss\n",
    "\n",
    "from setfit import SetFitModel, Trainer, TrainingArguments\n",
    "import evaluate\n",
    "import numpy as np"
   ]
  },
  {
   "cell_type": "code",
   "execution_count": 39,
   "metadata": {},
   "outputs": [
    {
     "name": "stdout",
     "output_type": "stream",
     "text": [
      "/mnt/c/Users/leonl/OneDrive/College/Senior/CSE 481DS/Analysis\n"
     ]
    }
   ],
   "source": [
    "import os\n",
    "print(os.getcwd())"
   ]
  },
  {
   "cell_type": "code",
   "execution_count": 40,
   "metadata": {},
   "outputs": [],
   "source": [
    "def to_bool(string:str) -> bool:\n",
    "    string = str(string).strip().casefold()\n",
    "    if string == 'nan':\n",
    "        return False\n",
    "    if string in ('true', 'yes', '1'):\n",
    "        return True\n",
    "    if string in ('false', 'no', '0'):\n",
    "        return False\n",
    "    return False\n",
    "\n",
    "def dsmap(ds, col, fn):\n",
    "    # I hate huggingface datasets\n",
    "    return ds.map(lambda x: {**x, **{col: fn(x[col])}})"
   ]
  },
  {
   "cell_type": "code",
   "execution_count": 46,
   "metadata": {},
   "outputs": [
    {
     "data": {
      "application/vnd.jupyter.widget-view+json": {
       "model_id": "b034f817462f4a1dbbbd4fe72fa5e69b",
       "version_major": 2,
       "version_minor": 0
      },
      "text/plain": [
       "Map:   0%|          | 0/200 [00:00<?, ? examples/s]"
      ]
     },
     "metadata": {},
     "output_type": "display_data"
    },
    {
     "data": {
      "application/vnd.jupyter.widget-view+json": {
       "model_id": "f457f97d28c54747821fb788eb4eb103",
       "version_major": 2,
       "version_minor": 0
      },
      "text/plain": [
       "Map:   0%|          | 0/200 [00:00<?, ? examples/s]"
      ]
     },
     "metadata": {},
     "output_type": "display_data"
    },
    {
     "data": {
      "application/vnd.jupyter.widget-view+json": {
       "model_id": "a40c8113a99841dca2901714247797b3",
       "version_major": 2,
       "version_minor": 0
      },
      "text/plain": [
       "Map:   0%|          | 0/200 [00:00<?, ? examples/s]"
      ]
     },
     "metadata": {},
     "output_type": "display_data"
    },
    {
     "data": {
      "application/vnd.jupyter.widget-view+json": {
       "model_id": "d4aa345e430f4ed88e614dab5bbc9e0a",
       "version_major": 2,
       "version_minor": 0
      },
      "text/plain": [
       "Map:   0%|          | 0/200 [00:00<?, ? examples/s]"
      ]
     },
     "metadata": {},
     "output_type": "display_data"
    }
   ],
   "source": [
    "# Load trainset from ../irr/train_set_gpt/caitlyn.csv\n",
    "trainset = load_dataset(\"csv\", data_files=\"./classify/irr/test_set_gpt/caitlyn.csv\")[\"train\"]\n",
    "testset  = load_dataset(\"csv\", data_files=\"./classify/irr/train_set_human/leon.csv\")[\"train\"]\n",
    "\n",
    "# Set all columns to bool\n",
    "trainset = dsmap(trainset, 'BreachMentioned', lambda x: int(to_bool(x)))\n",
    "trainset = dsmap(trainset, 'CompanyMentioned', lambda x: int(bool(x)))\n",
    "testset  = dsmap(testset, 'BreachMentioned', lambda x: int(to_bool(x)))\n",
    "testset  = dsmap(testset, 'CompanyMentioned', lambda x: int(bool(x)))\n",
    "\n",
    "# Remove non-input, non-target columns\n",
    "trainset = trainset.remove_columns(['Date', 'Publication', 'URL'] + [x for x in trainset.column_names if x.startswith('Unnamed: ')])\n",
    "testset  = testset.remove_columns(['Date', 'Publication', 'URL'] + [x for x in testset.column_names if x.startswith('Unnamed: ')])\n",
    "\n",
    "# Merge BreachMentioned and CompanyMentioned into a single column\n",
    "trainset = trainset.map(lambda e: {'Target': [int(bool(e['BreachMentioned'])), int(bool(e['CompanyMentioned']))]})\n",
    "testset  = testset.map(lambda e: {'Target': [int(bool(e['BreachMentioned'])), int(bool(e['CompanyMentioned']))]})\n",
    "\n",
    "trainset = trainset.remove_columns(['BreachMentioned', 'CompanyMentioned'])\n",
    "testset  = testset.remove_columns(['BreachMentioned', 'CompanyMentioned'])\n",
    "\n",
    "# Remove mystery unnamed column\n",
    "trainset = trainset.remove_columns([r for r in trainset.column_names if 'Unnamed' in r])\n",
    "testset  = testset.remove_columns([r for r in testset.column_names if 'Unnamed' in r])"
   ]
  },
  {
   "cell_type": "code",
   "execution_count": 47,
   "metadata": {},
   "outputs": [
    {
     "data": {
      "text/plain": [
       "{'Headline': 'Nasdaq 4000 a prelude to run at 2000 record?7 hours, 56 minutesMarkets',\n",
       " 'Target': [0, 0]}"
      ]
     },
     "execution_count": 47,
     "metadata": {},
     "output_type": "execute_result"
    }
   ],
   "source": [
    "# Sample rows\n",
    "trainset.shuffle(seed=42)[0]"
   ]
  },
  {
   "cell_type": "code",
   "execution_count": null,
   "metadata": {},
   "outputs": [],
   "source": [
    "args = TrainingArguments(\n",
    "    batch_size = (16, 32),\n",
    "    num_epochs = (1, 16),\n",
    "    output_dir = '/tmp/lleibm/checkpoints',\n",
    ")\n",
    "\n",
    "# f1/accuracy sentence level\n",
    "multilabel_f1_metric = evaluate.load(\"f1\", \"multilabel\")\n",
    "multilabel_accuracy_metric = evaluate.load(\"accuracy\", \"multilabel\")\n",
    "def compute_metrics(y_pred, y_test):\n",
    "    return {\n",
    "        \"f1\": multilabel_f1_metric.compute(predictions=y_pred, references=y_test, average=\"micro\")[\"f1\"],\n",
    "        \"accuracy\": multilabel_accuracy_metric.compute(predictions=y_pred, references=y_test)[\"accuracy\"],\n",
    "    }"
   ]
  },
  {
   "cell_type": "code",
   "execution_count": 48,
   "metadata": {},
   "outputs": [
    {
     "name": "stderr",
     "output_type": "stream",
     "text": [
      "model_head.pkl not found on HuggingFace Hub, initialising classification head with random weights. You should TRAIN this model on a downstream task to use it for predictions and inference.\n"
     ]
    }
   ],
   "source": [
    "model = SetFitModel.from_pretrained(\"sentence-transformers/paraphrase-mpnet-base-v2\", multi_target_strategy=\"multi-output\")"
   ]
  },
  {
   "cell_type": "code",
   "execution_count": 49,
   "metadata": {},
   "outputs": [
    {
     "name": "stderr",
     "output_type": "stream",
     "text": [
      "/tmp/ipykernel_1289234/1048080675.py:2: DeprecationWarning: `SetFitTrainer` has been deprecated and will be removed in v2.0.0 of SetFit. Please use `Trainer` instead.\n",
      "  trainer = SetFitTrainer(\n",
      "Applying column mapping to the training dataset\n",
      "Applying column mapping to the evaluation dataset\n"
     ]
    },
    {
     "name": "stderr",
     "output_type": "stream",
     "text": [
      "/home/lleibm/miniforge3/envs/transformers/lib/python3.11/site-packages/torch/cuda/__init__.py:654: UserWarning: Can't initialize NVML\n",
      "  warnings.warn(\"Can't initialize NVML\")\n"
     ]
    },
    {
     "data": {
      "application/vnd.jupyter.widget-view+json": {
       "model_id": "aa4019a635ba44d18a2eb343e45eaff5",
       "version_major": 2,
       "version_minor": 0
      },
      "text/plain": [
       "Map:   0%|          | 0/200 [00:00<?, ? examples/s]"
      ]
     },
     "metadata": {},
     "output_type": "display_data"
    }
   ],
   "source": [
    "# Train!\n",
    "trainer = Trainer(\n",
    "    model=model,\n",
    "    args=args,\n",
    "    train_dataset=trainset,\n",
    "    eval_dataset=testset,\n",
    "    column_mapping={\"Headline\": \"text\", \"Target\": \"label\"},\n",
    ")"
   ]
  },
  {
   "cell_type": "code",
   "execution_count": 50,
   "metadata": {},
   "outputs": [
    {
     "name": "stderr",
     "output_type": "stream",
     "text": [
      "***** Running training *****\n",
      "  Num unique pairs = 2000\n",
      "  Batch size = 16\n",
      "  Num epochs = 1\n"
     ]
    },
    {
     "data": {
      "text/html": [
       "\n",
       "    <div>\n",
       "      \n",
       "      <progress value='125' max='125' style='width:300px; height:20px; vertical-align: middle;'></progress>\n",
       "      [125/125 05:42, Epoch 1/1]\n",
       "    </div>\n",
       "    <table border=\"1\" class=\"dataframe\">\n",
       "  <thead>\n",
       " <tr style=\"text-align: left;\">\n",
       "      <th>Step</th>\n",
       "      <th>Training Loss</th>\n",
       "    </tr>\n",
       "  </thead>\n",
       "  <tbody>\n",
       "    <tr>\n",
       "      <td>1</td>\n",
       "      <td>0.623400</td>\n",
       "    </tr>\n",
       "    <tr>\n",
       "      <td>50</td>\n",
       "      <td>0.194400</td>\n",
       "    </tr>\n",
       "    <tr>\n",
       "      <td>100</td>\n",
       "      <td>0.054800</td>\n",
       "    </tr>\n",
       "  </tbody>\n",
       "</table><p>"
      ],
      "text/plain": [
       "<IPython.core.display.HTML object>"
      ]
     },
     "metadata": {},
     "output_type": "display_data"
    },
    {
     "data": {
      "application/vnd.jupyter.widget-view+json": {
       "model_id": "4b57d97eca424bcc94ec521ae272dbf5",
       "version_major": 2,
       "version_minor": 0
      },
      "text/plain": [
       "Computing widget examples:   0%|          | 0/1 [00:00<?, ?example/s]"
      ]
     },
     "metadata": {},
     "output_type": "display_data"
    },
    {
     "name": "stderr",
     "output_type": "stream",
     "text": [
      "***** Running evaluation *****\n"
     ]
    },
    {
     "name": "stdout",
     "output_type": "stream",
     "text": [
      "{'f1': 0.512, 'accuracy': 0.705}\n"
     ]
    }
   ],
   "source": [
    "trainer.train()\n",
    "metrics = trainer.evaluate()\n",
    "print(metrics)"
   ]
  },
  {
   "cell_type": "code",
   "execution_count": 51,
   "metadata": {},
   "outputs": [],
   "source": [
    "os.makedirs('./classify/setfit/model', exist_ok=True)\n",
    "model._save_pretrained('./classify/setfit/model')\n",
    "# saved_model = SetFitModel._from_pretrained('./classify/setfit/model')"
   ]
  }
 ],
 "metadata": {
  "kernelspec": {
   "display_name": "Python 3 (ipykernel)",
   "language": "python",
   "name": "python3"
  },
  "language_info": {
   "codemirror_mode": {
    "name": "ipython",
    "version": 3
   },
   "file_extension": ".py",
   "mimetype": "text/x-python",
   "name": "python",
   "nbconvert_exporter": "python",
   "pygments_lexer": "ipython3",
   "version": "3.11.10"
  }
 },
 "nbformat": 4,
 "nbformat_minor": 2
}
