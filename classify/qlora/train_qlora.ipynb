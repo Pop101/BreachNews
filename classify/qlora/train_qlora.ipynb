{
 "cells": [
  {
   "cell_type": "code",
   "execution_count": null,
   "metadata": {},
   "outputs": [],
   "source": [
    "from transformers import AutoModelForCausalLM, AutoTokenizer, BitsAndBytesConfig\n",
    "from trl import SFTTrainer\n",
    "import torch\n",
    "import pandas as pd\n",
    "import os"
   ]
  },
  {
   "cell_type": "code",
   "execution_count": null,
   "metadata": {},
   "outputs": [],
   "source": [
    "TRAINING_DATA_PATH   = './classify/irr/train_set_human/leon.csv'\n",
    "TEST_DATA_PATH       = './classify/irr/test_set_human/caitlyn.csv'\n",
    "OUTPUT_DIR           = './classify/qlora/model'\n",
    "EPOCHS               = 15\n",
    "\n",
    "PREFIX               = open('./classify/qlora/prompt_QLora.txt', 'r').read()\n",
    "\n",
    "\"\"\"\n",
    "TRAINING_DATA_PATH   = './llm_classify/trainset.csv'\n",
    "TEST_DATA_PATH       = './llm_classify/testset.csv'\n",
    "OUTPUT_DIR           = '/gscratch/stf/lleibm/decilm-7b-headline-qlora'\n",
    "EPOCHS               = 30\n",
    "\"\"\""
   ]
  },
  {
   "cell_type": "code",
   "execution_count": null,
   "metadata": {},
   "outputs": [],
   "source": [
    "model_name = \"Deci/DeciLM-7B\"\n",
    "decilm = AutoModelForCausalLM.from_pretrained(\n",
    "    model_name,\n",
    "    torch_dtype=torch.bfloat16,\n",
    "    device_map=\"auto\",\n",
    "    use_cache=True,\n",
    "    trust_remote_code=True\n",
    ")"
   ]
  },
  {
   "cell_type": "code",
   "execution_count": null,
   "metadata": {},
   "outputs": [],
   "source": [
    "tokenizer = AutoTokenizer.from_pretrained(model_name, trust_remote_code=True)\n",
    "tokenizer.pad_token = tokenizer.eos_token\n",
    "tokenizer.padding_side = \"right\""
   ]
  },
  {
   "cell_type": "code",
   "execution_count": null,
   "metadata": {},
   "outputs": [],
   "source": [
    "def fix_set(frame):\n",
    "    frame = frame.loc[:, ~frame.columns.str.contains('^Unnamed')] # Drop all Unnamed: columns\n",
    "    frame['Headline'] = frame['Headline'].apply(str.strip)\n",
    "    frame.drop_duplicates(subset=['Headline'], inplace=True)\n",
    "    frame.drop_duplicates(subset=['URL'], inplace=True)\n",
    "\n",
    "    frame.set_index(['Date', 'Publication', 'Headline', 'URL'], inplace=True)\n",
    "    frame.fillna(False, inplace=True)\n",
    "    return frame\n",
    "\n",
    "train_set = fix_set(pd.read_csv(TRAINING_DATA_PATH))\n",
    "test_set  = fix_set(pd.read_csv(TEST_DATA_PATH))"
   ]
  },
  {
   "cell_type": "code",
   "execution_count": null,
   "metadata": {},
   "outputs": [],
   "source": [
    "from itertools import chain\n",
    "\n",
    "def to_prompt(row:pd.Series, index=True, columns=True, index_names=None):\n",
    "    val = list()\n",
    "    if index:\n",
    "        if not index_names:\n",
    "            index_names = row.index.names\n",
    "        if not index_names:\n",
    "            index_names = ['index']\n",
    "        if not len(index_names) == len(row.name):\n",
    "            raise Exception(\"Index names must be the same length as the index\")\n",
    "        for i, name in enumerate(index_names):\n",
    "            val.append(f\"{name}: {row.name[i]}\")\n",
    "    \n",
    "    if columns:\n",
    "        for col, value in row.items():\n",
    "            val.append(f\"{col} : {value}\")\n",
    "    return '\\n'.join(val)\n",
    "\n",
    "def construct_fragment(sample, prefix=PREFIX):\n",
    "  prompt = \"<s>\"\n",
    "  if prefix: prompt += prefix\n",
    "  prompt += to_prompt(sample, index=True, columns=False, index_names=['Date', 'Publication', 'Headline', 'URL'])\n",
    "  prompt += \" ###> \"\n",
    "  prompt += to_prompt(sample, index=False, columns=True)\n",
    "  prompt += \"</s>\"\n",
    "  return prompt"
   ]
  },
  {
   "cell_type": "code",
   "execution_count": null,
   "metadata": {},
   "outputs": [],
   "source": [
    "train_set['text'] = train_set.apply(construct_fragment, axis=1)\n",
    "test_set['text']  = test_set.apply(construct_fragment, axis=1)"
   ]
  },
  {
   "cell_type": "code",
   "execution_count": null,
   "metadata": {},
   "outputs": [],
   "source": [
    "# Convert to HF Dataset\n",
    "from datasets import Dataset\n",
    "\n",
    "train_set = Dataset.from_pandas(train_set['text'].to_frame())\n",
    "test_set  = Dataset.from_pandas(test_set['text'].to_frame())"
   ]
  },
  {
   "cell_type": "code",
   "execution_count": null,
   "metadata": {},
   "outputs": [],
   "source": [
    "train_set[0]"
   ]
  },
  {
   "cell_type": "code",
   "execution_count": null,
   "metadata": {},
   "outputs": [],
   "source": [
    "# Set up lora config to be identical to QLora\n",
    "from peft import LoraConfig, prepare_model_for_kbit_training, get_peft_model\n",
    "\n",
    "lora_config = LoraConfig(\n",
    "    r=16,\n",
    "    lora_alpha=32,\n",
    "    lora_dropout=0.1,\n",
    "    #  The modules to apply the LoRA update matrices.\n",
    "    target_modules = [\"gate_proj\", \"down_proj\", \"up_proj\"],\n",
    "    task_type=\"CAUSAL_LM\"\n",
    ")\n",
    "\n",
    "decilm.enable_input_require_grads()\n",
    "decilm = get_peft_model(decilm, lora_config)"
   ]
  },
  {
   "cell_type": "code",
   "execution_count": null,
   "metadata": {},
   "outputs": [],
   "source": [
    "# Set up trainer\n",
    "from transformers import TrainingArguments\n",
    "\n",
    "training_args = TrainingArguments(\n",
    "        output_dir=OUTPUT_DIR,\n",
    "        evaluation_strategy=\"steps\",\n",
    "        do_eval=True,\n",
    "        auto_find_batch_size=True,\n",
    "        log_level=\"debug\",\n",
    "        optim=\"paged_adamw_32bit\",\n",
    "        save_steps=25,\n",
    "        logging_steps=100,\n",
    "        learning_rate=3e-4,\n",
    "        weight_decay=0.01,\n",
    "        max_steps=len(train_set) * EPOCHS,\n",
    "        warmup_steps=150,\n",
    "        # if you're using a T4, or non-ampere supported chip comment out the below line.\n",
    "        bf16=True,\n",
    "        tf32=True,\n",
    "        gradient_checkpointing=True,\n",
    "        max_grad_norm=0.3, #from the paper\n",
    "        lr_scheduler_type=\"reduce_lr_on_plateau\",\n",
    ")"
   ]
  },
  {
   "cell_type": "code",
   "execution_count": null,
   "metadata": {},
   "outputs": [],
   "source": [
    "trainer = SFTTrainer(\n",
    "    model=decilm,\n",
    "    args=training_args,\n",
    "    peft_config=lora_config,\n",
    "    tokenizer=tokenizer,\n",
    "    dataset_text_field='text',\n",
    "    train_dataset=train_set,\n",
    "    eval_dataset=test_set,\n",
    "    max_seq_length=4096,\n",
    "    dataset_num_proc=os.cpu_count(),\n",
    ")"
   ]
  },
  {
   "cell_type": "code",
   "execution_count": null,
   "metadata": {},
   "outputs": [],
   "source": [
    "trainer.train()\n",
    "trainer.save_model()"
   ]
  }
 ],
 "metadata": {
  "kernelspec": {
   "display_name": "Python 3 (ipykernel)",
   "language": "python",
   "name": "python3"
  }
 },
 "nbformat": 4,
 "nbformat_minor": 2
}
